{
 "cells": [
  {
   "cell_type": "code",
   "execution_count": 2,
   "id": "97c0156e",
   "metadata": {},
   "outputs": [],
   "source": [
    "# Array=An array is a central data structure of the NumPy library.\n",
    "# An array is a grid of values and it contains information about the raw data, how to locate an element, and how to interpret an element. \n",
    "# It has a grid of elements that can be indexed in various ways.\n",
    "\n",
    "# Type of Array :-\n",
    "#     - 1D = The One-dimensional array contains elements only in one dimension. \n",
    "#            In other words, the shape of the NumPy array should contain only one value in the tuple.\n",
    "\n",
    "#     - 2D = A 2D array is an array of arrays that can be represented in matrix form, like rows and columns. \n",
    "#            In this array, the position of data elements is defined with two indices instead of a single index. \n",
    "#            In Python, we can access two-dimensional array elements using two indices.\n",
    "\n",
    "#     - 3D=  Arrays in NumPy are data structures with high performance suitable for mathematical operations.\n",
    "#            The three levels of arrays nested inside one another represent the three-dimensional array in Python, where each level means one dimension.\n",
    "\n",
    "\n",
    "# import array as n\n",
    "# n.array."
   ]
  },
  {
   "cell_type": "code",
   "execution_count": 5,
   "id": "abd407c5",
   "metadata": {},
   "outputs": [
    {
     "name": "stdout",
     "output_type": "stream",
     "text": [
      "[12 23 34 45 54 56 87]\n",
      "<class 'numpy.ndarray'>\n"
     ]
    }
   ],
   "source": [
    "# numpy( 1D array) :-\n",
    "import numpy as ny\n",
    "array1=ny.array([12,23,34,45,54,56,87])\n",
    "print(array1)\n",
    "print(type(array1))"
   ]
  },
  {
   "cell_type": "code",
   "execution_count": 7,
   "id": "bf35d229",
   "metadata": {},
   "outputs": [
    {
     "name": "stdout",
     "output_type": "stream",
     "text": [
      "[[ 2  4  6  8 10]\n",
      " [ 1  3  5  7  9]\n",
      " [11 12 13 14 15]]\n",
      "element catch by indexing in 2D Array : 7\n"
     ]
    }
   ],
   "source": [
    "# 2D array :-\n",
    "array2=ny.array([[2,4,6,8,10],[1,3,5,7,9],[11,12,13,14,15]])\n",
    "print(array2)\n",
    "print(\"element catch by indexing in 2D Array :\",array2[1,3]) # array2[row,column]"
   ]
  },
  {
   "cell_type": "code",
   "execution_count": 9,
   "id": "2dfcf8ac",
   "metadata": {},
   "outputs": [
    {
     "name": "stdout",
     "output_type": "stream",
     "text": [
      "[[[  1   3   5   7   9]\n",
      "  [  2   4   6   8  10]\n",
      "  [  1   8  27  64 125]]]\n",
      "element catch by indexing in 3D Array : 125\n"
     ]
    }
   ],
   "source": [
    "# 3D array :-\n",
    "array3=ny.array([[[1,3,5,7,9],[2,4,6,8,10],[1,8,27,64,125]]])\n",
    "print(array3)\n",
    "print(\"element catch by indexing in 3D Array :\",array3[0][2][4]) # array3[row,column,row]"
   ]
  },
  {
   "cell_type": "markdown",
   "id": "fc874452",
   "metadata": {},
   "source": [
    "# Practice Questions :-"
   ]
  },
  {
   "cell_type": "code",
   "execution_count": 184,
   "id": "29625cde",
   "metadata": {},
   "outputs": [
    {
     "name": "stdout",
     "output_type": "stream",
     "text": [
      "Sum Of All Element : 494\n"
     ]
    }
   ],
   "source": [
    "# Sum :-\n",
    "import numpy as np\n",
    "arr=np.array([12,23,34,45,56,67,78,89,90])\n",
    "sum=0\n",
    "for i in arr:\n",
    "    sum=sum+i\n",
    "print(\"Sum Of All Element :\",sum)"
   ]
  },
  {
   "cell_type": "code",
   "execution_count": 185,
   "id": "4ca626a7",
   "metadata": {},
   "outputs": [
    {
     "name": "stdout",
     "output_type": "stream",
     "text": [
      "Maximum element is : 12\n",
      "Minimum element is : 90\n"
     ]
    }
   ],
   "source": [
    "# Max. and Min. :-\n",
    "arr1=np.array([12,23,34,45,56,67,78,89,90])\n",
    "def Maximum(arr1):\n",
    "    Max=arr1[0]\n",
    "    for i in arr1:\n",
    "        if Max > i:\n",
    "            Max=i\n",
    "    return Max\n",
    "def Minimum(arr1):\n",
    "    Min=arr1[0]\n",
    "    for i in arr1:\n",
    "        if Min < i:\n",
    "            Min=i\n",
    "    return Min\n",
    "print(\"Maximum element is :\",Maximum(arr1))\n",
    "print(\"Minimum element is :\",Minimum(arr1))     "
   ]
  },
  {
   "cell_type": "code",
   "execution_count": 186,
   "id": "7a5dfae7",
   "metadata": {},
   "outputs": [
    {
     "name": "stdout",
     "output_type": "stream",
     "text": [
      "Sorting of Array : [12 23 34 45 56 67 78 89 90]\n",
      "2nd Highest element of Array : 89\n"
     ]
    }
   ],
   "source": [
    "# 2nd highest :-\n",
    "arr2=np.array([12,23,34,45,56,67,78,89,90])\n",
    "for i in range(len(arr2)):\n",
    "    for j in range(len(arr2)-1-i):\n",
    "        if(arr2[j]>arr2[j+1]):\n",
    "            t=arr2[j]\n",
    "            arr2[j]=arr2[j+1]\n",
    "            arr2[j+1]=t\n",
    "print(\"Sorting of Array :\",arr2)\n",
    "print(\"2nd Highest element of Array :\",arr2[-2])"
   ]
  },
  {
   "cell_type": "code",
   "execution_count": 188,
   "id": "da4da6e1",
   "metadata": {},
   "outputs": [
    {
     "name": "stdout",
     "output_type": "stream",
     "text": [
      "Sorting Of Array : [ 1  4  6  7 12 23 34 43 54 58 65 67 68 87 89 90 99]\n"
     ]
    }
   ],
   "source": [
    "# Sort :-\n",
    "arr3=np.array([4,1,6,7,89,87,65,67,34,12,23,43,90,54,58,68,99])\n",
    "for i in range(len(arr3)):\n",
    "    for j in range(len(arr3)-1-i):\n",
    "        if(arr3[j]>arr3[j+1]):\n",
    "            t=arr3[j]\n",
    "            arr3[j]=arr3[j+1]\n",
    "            arr3[j+1]=t\n",
    "print(\"Sorting Of Array :\",arr3)"
   ]
  },
  {
   "cell_type": "code",
   "execution_count": 189,
   "id": "df687833",
   "metadata": {},
   "outputs": [
    {
     "name": "stdout",
     "output_type": "stream",
     "text": [
      "After Swaping single Array :-\n",
      "Array1 : [10 11 12 13 14 15]\n",
      "Array2 : [1 2 3 4 5 6 7 8 9]\n"
     ]
    }
   ],
   "source": [
    "# Swaping Single Dimensional Array :-\n",
    "import numpy as py\n",
    "array1=py.array([1,2,3,4,5,6,7,8,9])\n",
    "array2=py.array([10,11,12,13,14,15])\n",
    "t=array1\n",
    "array1=array2\n",
    "array2=t\n",
    "print(\"After Swaping single Array :-\")\n",
    "print(\"Array1 :\",array1)\n",
    "print(\"Array2 :\",array2)"
   ]
  },
  {
   "cell_type": "markdown",
   "id": "a24aaf78",
   "metadata": {},
   "source": [
    "# Functions :-"
   ]
  },
  {
   "cell_type": "code",
   "execution_count": 192,
   "id": "6b292d69",
   "metadata": {},
   "outputs": [
    {
     "name": "stdout",
     "output_type": "stream",
     "text": [
      "3\n",
      "1\n",
      "2\n"
     ]
    }
   ],
   "source": [
    "# How to check array dimension(1D, 2D and 3D) :-\n",
    "array1=ny.array([12,23,34,45,54,56,87])\n",
    "array2=ny.array([[2,4,6,8,10],[1,3,5,7,9],[11,12,13,14,15]])\n",
    "array3=ny.array([[[1,3,5,7,9],[2,4,6,8,10],[1,8,27,64,125]]])\n",
    "print(array3.ndim)\n",
    "print(array1.ndim)\n",
    "print(array2.ndim)"
   ]
  },
  {
   "cell_type": "code",
   "execution_count": 194,
   "id": "77f578a8",
   "metadata": {},
   "outputs": [
    {
     "name": "stdout",
     "output_type": "stream",
     "text": [
      "(1, 3, 5)\n",
      "(7,)\n",
      "(3, 5)\n"
     ]
    }
   ],
   "source": [
    "# How to check shape(Row,column)of array :-\n",
    "array1=ny.array([12,23,34,45,54,56,87])\n",
    "array2=ny.array([[2,4,6,8,10],[1,3,5,7,9],[11,12,13,14,15]])\n",
    "array3=ny.array([[[1,3,5,7,9],[2,4,6,8,10],[1,8,27,64,125]]])\n",
    "print(array3.shape)\n",
    "print(array1.shape)\n",
    "print(array2.shape)"
   ]
  },
  {
   "cell_type": "code",
   "execution_count": 196,
   "id": "5537ed6c",
   "metadata": {},
   "outputs": [
    {
     "name": "stdout",
     "output_type": "stream",
     "text": [
      "Array : [12 23 34  4  5 56 67 78 89 54 43 23 32 12 67 34]\n",
      "single array into 3D :\n",
      " [[[12 23 34  4]\n",
      "  [ 5 56 67 78]\n",
      "  [89 54 43 23]\n",
      "  [32 12 67 34]]]\n",
      "single array into 2D :\n",
      " [[12 23 34  4]\n",
      " [ 5 56 67 78]\n",
      " [89 54 43 23]\n",
      " [32 12 67 34]]\n"
     ]
    }
   ],
   "source": [
    "# HoW to reshape of array :-\n",
    "import numpy as ny\n",
    "ar=ny.array([12,23,34,4,5,56,67,78,89,54,43,23,32,12,67,34])\n",
    "print(\"Array :\",ar)\n",
    "k=ar.reshape(1,4,4)\n",
    "print(\"single array into 3D :\\n\",k)\n",
    "k=ar.reshape(4,4)\n",
    "print(\"single array into 2D :\\n\",k)"
   ]
  },
  {
   "cell_type": "code",
   "execution_count": 198,
   "id": "2627e36d",
   "metadata": {},
   "outputs": [
    {
     "name": "stdout",
     "output_type": "stream",
     "text": [
      "Indexing :-\n",
      "first 6th element of array : 56\n",
      "last 2nd element of array : 90\n",
      "Slicing :-\n",
      "first 3rd element to 7th element of array : [21 34 45 56 67]\n",
      "first 2nd to len(array) : [23 21 34 45 56 67 87 89 90 61]\n",
      "beggining to 7th element : [12 23 21 34 45 56 67 87]\n",
      "beggining to last -5th element : [12 23 21 34 45 56 67]\n"
     ]
    }
   ],
   "source": [
    "# access the array element :-\n",
    "x=ny.array([12,23,21,34,45,56,67,87,89,90,61])\n",
    "print(\"Indexing :-\")\n",
    "print(\"first 6th element of array :\",x[5]) # 56\n",
    "print(\"last 2nd element of array :\",x[-2]) # 90\n",
    "print(\"Slicing :-\")\n",
    "print(\"first 3rd element to 7th element of array :\",x[2:7]) # 21,34,45,56,67\n",
    "print(\"first 2nd to len(array) :\",x[1:]) # 23 to len(x)\n",
    "print(\"beggining to 7th element :\",x[:8]) # 12 to 87\n",
    "print(\"beggining to last -5th element :\",x[:-4])"
   ]
  },
  {
   "cell_type": "code",
   "execution_count": 200,
   "id": "466c40cf",
   "metadata": {},
   "outputs": [
    {
     "name": "stdout",
     "output_type": "stream",
     "text": [
      "k : [49 67 78 89 90 23 56 84]\n",
      "x : [49 15 78 89 90 23 56 84]\n",
      "k : [49 67 78 89 90 23 56 84]\n"
     ]
    }
   ],
   "source": [
    "# copy :-\n",
    "x=ny.array([49,67,78,89,90,23,56,84])\n",
    "k=x.copy()\n",
    "print(\"k :\",k)\n",
    "\n",
    "# change value in x :-\n",
    "x[1]=15\n",
    "print(\"x :\",x)\n",
    "print(\"k :\",k)"
   ]
  },
  {
   "cell_type": "code",
   "execution_count": 202,
   "id": "d969abdb",
   "metadata": {},
   "outputs": [
    {
     "name": "stdout",
     "output_type": "stream",
     "text": [
      "x : [ 10  15  20 100  30  35  40  45  50]\n",
      "k : [ 10  15  20 100  30  35  40  45  50]\n"
     ]
    }
   ],
   "source": [
    "# View :-\n",
    "x=ny.array([10,15,20,25,30,35,40,45,50])\n",
    "k=x.view()\n",
    "x[3]=100\n",
    "print(\"x :\",x)\n",
    "print(\"k :\",k)"
   ]
  },
  {
   "cell_type": "code",
   "execution_count": 264,
   "id": "dee760a9",
   "metadata": {},
   "outputs": [
    {
     "name": "stdout",
     "output_type": "stream",
     "text": [
      "1\n",
      "2\n",
      "3\n",
      "4\n",
      "5\n",
      "6\n",
      "7\n",
      "8\n",
      "9\n",
      "10\n"
     ]
    }
   ],
   "source": [
    "# Iterate :-\n",
    "x=ny.array([1,2,3,4,5,6,7,8,9,10])\n",
    "for i in x:\n",
    "    print(i)"
   ]
  },
  {
   "cell_type": "code",
   "execution_count": 206,
   "id": "14cf3f15",
   "metadata": {},
   "outputs": [
    {
     "name": "stdout",
     "output_type": "stream",
     "text": [
      "[[10 20 30]\n",
      " [40 50 60]\n",
      " [60 70 80]]\n",
      "10\n",
      "20\n",
      "30\n",
      "40\n",
      "50\n",
      "60\n",
      "60\n",
      "70\n",
      "80\n"
     ]
    }
   ],
   "source": [
    "# Iterating on Each Scalar Element :-\n",
    "a=ny.array([[10,20,30],[40,50,60],[60,70,80]])\n",
    "print(a)\n",
    "# for i in range(0,3):\n",
    "#     for j in range(0,3):\n",
    "#         print(a[i][j])\n",
    "for i in ny.nditer(a):\n",
    "    print(i)   "
   ]
  },
  {
   "cell_type": "code",
   "execution_count": 208,
   "id": "7aad1147",
   "metadata": {},
   "outputs": [
    {
     "name": "stdout",
     "output_type": "stream",
     "text": [
      "b'1'\n",
      "b'2'\n",
      "b'3'\n",
      "b'4'\n",
      "int32\n",
      "|S11\n"
     ]
    }
   ],
   "source": [
    "# Iterating Array With Different Data Types :-\n",
    "a=ny.array([1,2,3,4])\n",
    "for i in ny.nditer(a,flags=['buffered'],op_dtypes=['S']):\n",
    "    print(i)\n",
    "print(a.dtype)\n",
    "print(i.dtype)"
   ]
  },
  {
   "cell_type": "code",
   "execution_count": 265,
   "id": "38f1a4c3",
   "metadata": {},
   "outputs": [
    {
     "name": "stdout",
     "output_type": "stream",
     "text": [
      "1\n",
      "3\n",
      "4\n",
      "6\n",
      "7\n",
      "9\n"
     ]
    }
   ],
   "source": [
    "# Iterating With Different Step Size :-\n",
    "a=ny.array([[1,2,3],[4,5,6],[7,8,9]])\n",
    "for i in ny.nditer(a[:,::2]):\n",
    "    print(i)"
   ]
  },
  {
   "cell_type": "code",
   "execution_count": 263,
   "id": "0d6be6a7",
   "metadata": {},
   "outputs": [
    {
     "name": "stdout",
     "output_type": "stream",
     "text": [
      "z : [ 2  4  6  8 10 12 14 16 18 20  1  3  5  7  9 11 13 15 17 19]\n",
      "r : [[10 20 30]\n",
      " [40 50 60]\n",
      " [70 80 90]\n",
      " [ 1  2  3]\n",
      " [ 4  5  6]\n",
      " [ 7  8  9]]\n",
      "s : [[10 20 30  1  2  3]\n",
      " [40 50 60  4  5  6]\n",
      " [70 80 90  7  8  9]]\n",
      "t : [10 20 30 40 50 60 70 80 90  1  2  3  4  5  6  7  8  9]\n"
     ]
    }
   ],
   "source": [
    "# join two array :-\n",
    "x=ny.array([2,4,6,8,10,12,14,16,18,20])\n",
    "y=ny.array([1,3,5,7,9,11,13,15,17,19])\n",
    "z=ny.concatenate((x,y))\n",
    "print(\"z :\",z)\n",
    "\n",
    "p=ny.array([[10,20,30],[40,50,60],[70,80,90]])\n",
    "q=ny.array([[1,2,3],[4,5,6],[7,8,9]])\n",
    "r=ny.concatenate((p,q),axis=0)\n",
    "print(\"r :\",r)\n",
    "s=ny.concatenate((p,q),axis=1)\n",
    "print(\"s :\",s)\n",
    "t=ny.concatenate((p,q),axis=None)\n",
    "print(\"t :\",t)"
   ]
  },
  {
   "cell_type": "code",
   "execution_count": 214,
   "id": "5357cb44",
   "metadata": {},
   "outputs": [
    {
     "name": "stdout",
     "output_type": "stream",
     "text": [
      "split :-\n",
      "q :\n",
      " [array([12, 33]), array([34, 56]), array([84, 15]), array([32, 45])]\n",
      "split along row :-\n",
      "x :\n",
      " [array([[ 1],\n",
      "       [ 4],\n",
      "       [ 7],\n",
      "       [10],\n",
      "       [13]]), array([[ 2],\n",
      "       [ 5],\n",
      "       [ 8],\n",
      "       [11],\n",
      "       [14]]), array([[ 3],\n",
      "       [ 6],\n",
      "       [ 9],\n",
      "       [12],\n",
      "       [15]])]\n",
      "split along column :-\n",
      "y :\n",
      " [array([[1, 2, 3]]), array([[4, 5, 6]]), array([[7, 8, 9]]), array([[10, 11, 12]]), array([[13, 14, 15]])]\n"
     ]
    }
   ],
   "source": [
    "# split :-\n",
    "print(\"split :-\")\n",
    "p=ny.array([12,33,34,56,84,15,32,45])\n",
    "q=ny.array_split(p,4)\n",
    "print(\"q :\\n\",q)\n",
    "\n",
    "# split along row :-\n",
    "print(\"split along row :-\")\n",
    "p=ny.array([[1,2,3],[4,5,6],[7,8,9],[10,11,12],[13,14,15]])\n",
    "x=ny.hsplit(p,3)\n",
    "print(\"x :\\n\",x)\n",
    "\n",
    "# split along columns :-\n",
    "print(\"split along column :-\")\n",
    "y=ny.vsplit(p,5)\n",
    "print(\"y :\\n\",y)"
   ]
  },
  {
   "cell_type": "code",
   "execution_count": 216,
   "id": "d0b41f75",
   "metadata": {},
   "outputs": [
    {
     "name": "stdout",
     "output_type": "stream",
     "text": [
      "q : [68 45 68 68 46 45 56 78 84 75]\n"
     ]
    }
   ],
   "source": [
    "# Where :- \n",
    "p=ny.array([34,45,34,34,23,45,56,78,84,75])\n",
    "q=ny.where(p>=40,p,p*2)\n",
    "print(\"q :\",q)"
   ]
  },
  {
   "cell_type": "code",
   "execution_count": 218,
   "id": "1e9b9fb4",
   "metadata": {},
   "outputs": [
    {
     "name": "stdout",
     "output_type": "stream",
     "text": [
      "x : (array([0, 3, 6, 7], dtype=int64),)\n",
      "y : (array([0, 2, 3, 4, 6, 7, 8], dtype=int64),)\n",
      "z : (array([2, 5], dtype=int64),)\n"
     ]
    }
   ],
   "source": [
    "# where = used for searching element :-\n",
    "p=ny.array([12,23,34,12,56,67,12,12,78])\n",
    "x=ny.where(p==12)\n",
    "y=ny.where(p%2==0)\n",
    "z=ny.where(p%3==1)\n",
    "print(\"x :\",x)\n",
    "print(\"y :\",y)\n",
    "print(\"z :\",z)"
   ]
  },
  {
   "cell_type": "code",
   "execution_count": 220,
   "id": "88f2f974",
   "metadata": {},
   "outputs": [
    {
     "name": "stdout",
     "output_type": "stream",
     "text": [
      "1st Method :-\n",
      "k : [56 84 52 52]\n",
      "2nd Method :-\n",
      "r : [345  64 756  56  87  89  90]\n"
     ]
    }
   ],
   "source": [
    "# Filter :-\n",
    "print(\"1st Method :-\")\n",
    "x=ny.array([34,56,84,52,75,45,52,21])\n",
    "y=[False,True,True,True,False,False,True,False]\n",
    "k=x[y]\n",
    "print(\"k :\",k)\n",
    "\n",
    "print(\"2nd Method :-\")\n",
    "p=ny.array([13,5,345,64,756,45,56,12,87,45,89,90,33])\n",
    "q=[]\n",
    "for i in p:\n",
    "    if (i>50):\n",
    "        q.append(True)\n",
    "    else:\n",
    "        q.append(False)\n",
    "r=p[q]\n",
    "print(\"r :\",r)"
   ]
  },
  {
   "cell_type": "code",
   "execution_count": 222,
   "id": "bb3ea1d7",
   "metadata": {},
   "outputs": [
    {
     "name": "stdout",
     "output_type": "stream",
     "text": [
      "1D array :-\n",
      "((0,), 12)\n",
      "((1,), 2)\n",
      "((2,), 34)\n",
      "((3,), 45)\n",
      "((4,), 56)\n",
      "((5,), 67)\n",
      "((6,), 78)\n",
      "((7,), 32)\n",
      "2D array :-\n",
      "((0, 0), 10)\n",
      "((0, 1), 20)\n",
      "((0, 2), 30)\n",
      "((1, 0), 20)\n",
      "((1, 1), 10)\n",
      "((1, 2), 15)\n",
      "((2, 0), 12)\n",
      "((2, 1), 23)\n",
      "((2, 2), 34)\n"
     ]
    }
   ],
   "source": [
    "# Enumerated Iteration Using ndenumerate() :- \n",
    "# index number(row,column)\n",
    "print(\"1D array :-\")\n",
    "a=ny.array([12,2,34,45,56,67,78,32])\n",
    "for i in ny.ndenumerate(a):\n",
    "    print(i) \n",
    "    \n",
    "print(\"2D array :-\")\n",
    "a=ny.array([[10,20,30],[20,10,15],[12,23,34]])\n",
    "for i in ny.ndenumerate(a):\n",
    "    print(i) # "
   ]
  },
  {
   "cell_type": "code",
   "execution_count": 224,
   "id": "fd9e6f6a",
   "metadata": {},
   "outputs": [
    {
     "name": "stdout",
     "output_type": "stream",
     "text": [
      "array1 :\n",
      " [[10 43]\n",
      " [13 26]\n",
      " [16 28]\n",
      " [19 89]\n",
      " [20 76]\n",
      " [35 64]]\n",
      "array2 :\n",
      " [10 13 16 19 20 35 43 26 28 89 76 64]\n",
      "array3 :\n",
      " [[10 13 16 19 20 35]\n",
      " [43 26 28 89 76 64]]\n",
      "array4 :\n",
      " [[[10 43]\n",
      "  [13 26]\n",
      "  [16 28]\n",
      "  [19 89]\n",
      "  [20 76]\n",
      "  [35 64]]]\n"
     ]
    }
   ],
   "source": [
    "# stack Function :-\n",
    "ar1=ny.array([10,13,16,19,20,35])\n",
    "ar2=ny.array([43,26,28,89,76,64])\n",
    "array1=ny.stack((ar1,ar2),axis=1)\n",
    "print('array1 :\\n',array1)\n",
    "\n",
    "# horizontaly stack :-\n",
    "array2=ny.hstack((ar1,ar2))\n",
    "print('array2 :\\n',array2)\n",
    "\n",
    "# verticaly stack :-\n",
    "array3=ny.vstack((ar1,ar2))\n",
    "print('array3 :\\n',array3)\n",
    "\n",
    "# along hight (depth) :-\n",
    "array4=ny.dstack((ar1,ar2))\n",
    "print('array4 :\\n',array4)"
   ]
  },
  {
   "cell_type": "code",
   "execution_count": 21,
   "id": "e9df95d8",
   "metadata": {},
   "outputs": [
    {
     "name": "stdout",
     "output_type": "stream",
     "text": [
      "integer number :-\n",
      "2\n",
      "6\n",
      "[22 12 23 28 24]\n",
      "float number :-\n",
      "0.15219425047557122\n",
      "1D array :-\n",
      "[0.7108257  0.46503756 0.46906269 0.12108832 0.93815732]\n",
      "2D array :-\n",
      "[[0.1362122  0.72446998 0.18597907 0.20810784]\n",
      " [0.75107241 0.17113604 0.66151987 0.66587211]]\n",
      "3D array :-\n",
      "[[[0.0532329  0.08318536 0.89329539 0.85513015]\n",
      "  [0.14884287 0.50635705 0.98488732 0.29248219]\n",
      "  [0.61096094 0.43596504 0.77841677 0.54941048]]]\n"
     ]
    }
   ],
   "source": [
    "# Random Function :-\n",
    "from numpy import random\n",
    "print(\"integer number :-\")\n",
    "x=random.randint(10)\n",
    "print(x)\n",
    "x1=random.randint(1,10)\n",
    "print(x1)\n",
    "x2=random.randint(10,30,5)\n",
    "print(x2)\n",
    "print(\"float number :-\")\n",
    "y=random.rand()\n",
    "print(y)\n",
    "print(\"1D array :-\")\n",
    "z=random.rand(5)\n",
    "print(z)\n",
    "print(\"2D array :-\")\n",
    "p=random.rand(2,4)\n",
    "print(p)\n",
    "print(\"3D array :-\")\n",
    "q=random.rand(1,3,4)\n",
    "print(q)"
   ]
  },
  {
   "cell_type": "code",
   "execution_count": 229,
   "id": "bb552a8e",
   "metadata": {},
   "outputs": [
    {
     "name": "stdout",
     "output_type": "stream",
     "text": [
      "x : 23\n",
      "y :\n",
      " [[34 56 67 34]\n",
      " [67 56 23 34]\n",
      " [34 56 56 67]]\n",
      "z :\n",
      " [[[56 67 67 23 23]\n",
      "  [56 23 67 56 56]\n",
      "  [23 34 56 83 23]\n",
      "  [67 67 34 56 34]]]\n"
     ]
    }
   ],
   "source": [
    "# choice Function :-\n",
    "x=random.choice([34,56,67,34,23,56,67,34,83,23])\n",
    "print(\"x :\",x)\n",
    "y=random.choice([34,56,67,34,23,56,67,34,83,23],size=(3,4))\n",
    "print(\"y :\\n\",y)\n",
    "z=random.choice([34,56,67,34,23,56,67,34,83,23],size=(1,4,5))\n",
    "print(\"z :\\n\",z)"
   ]
  },
  {
   "cell_type": "code",
   "execution_count": 243,
   "id": "bf28a0e0",
   "metadata": {},
   "outputs": [
    {
     "name": "stdout",
     "output_type": "stream",
     "text": [
      "1D array :\n",
      " [ 7  7  3  5  5  5  7  7  7  5 12  5  5 12  7  5  5  5  3  5  7  5  7  3\n",
      "  3 12  5  7  5  7  7  7  5  7  3  7  7  3  7  5  7  5  7  3  7  5  5  5\n",
      "  7  5]\n",
      "2D array :\n",
      " [[5 3 5 5]\n",
      " [7 5 3 5]]\n",
      "3D array :\n",
      " [[[ 5  7  5]\n",
      "  [12  3  3]\n",
      "  [ 5  5  7]\n",
      "  [ 7  5  5]\n",
      "  [ 5  3  5]]]\n"
     ]
    }
   ],
   "source": [
    "# random data distribution :-\n",
    "from numpy import random\n",
    "x=random.choice([12,5,7,3,24], p=[0.1,0.4,0.3,0.2,0.0],size=(50))\n",
    "print(\"1D array :\\n\",x)\n",
    "\n",
    "y=random.choice([12,5,7,3,24], p=[0.1,0.4,0.3,0.2,0.0],size=(2,4))\n",
    "print(\"2D array :\\n\",y)\n",
    "\n",
    "z=random.choice([12,5,7,3,24], p=[0.1,0.4,0.3,0.2,0.0],size=(1,5,3))\n",
    "print(\"3D array :\\n\",z)"
   ]
  },
  {
   "cell_type": "code",
   "execution_count": 269,
   "id": "5953405b",
   "metadata": {},
   "outputs": [
    {
     "name": "stdout",
     "output_type": "stream",
     "text": [
      "[ 7 10  9  1  3  5  4  2  6  8]\n"
     ]
    }
   ],
   "source": [
    "# shuffle function :-\n",
    "from numpy import random \n",
    "import numpy as ny\n",
    "x=ny.array([1,2,3,4,5,6,7,8,9,10])\n",
    "random.shuffle(x)\n",
    "print(x)"
   ]
  },
  {
   "cell_type": "code",
   "execution_count": 399,
   "id": "6060cc4c",
   "metadata": {},
   "outputs": [
    {
     "name": "stdout",
     "output_type": "stream",
     "text": [
      "[ 6  5  3 10  2  1  7  8  4  9]\n"
     ]
    }
   ],
   "source": [
    "# Permutation Function :-\n",
    "from numpy import random \n",
    "import numpy as ny\n",
    "x=ny.array([1,2,3,4,5,6,7,8,9,10])\n",
    "print(random.permutation(x))"
   ]
  }
 ],
 "metadata": {
  "kernelspec": {
   "display_name": "Python 3 (ipykernel)",
   "language": "python",
   "name": "python3"
  },
  "language_info": {
   "codemirror_mode": {
    "name": "ipython",
    "version": 3
   },
   "file_extension": ".py",
   "mimetype": "text/x-python",
   "name": "python",
   "nbconvert_exporter": "python",
   "pygments_lexer": "ipython3",
   "version": "3.11.5"
  }
 },
 "nbformat": 4,
 "nbformat_minor": 5
}
