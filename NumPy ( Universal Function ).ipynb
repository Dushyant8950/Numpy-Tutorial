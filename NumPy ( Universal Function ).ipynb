{
 "cells": [
  {
   "cell_type": "markdown",
   "id": "5591884f",
   "metadata": {},
   "source": [
    "# NumPy ufuncs (Universal Functions) :-"
   ]
  },
  {
   "cell_type": "code",
   "execution_count": null,
   "id": "b6f51e68",
   "metadata": {},
   "outputs": [],
   "source": [
    "# What is ufuncs ?\n",
    "# ufuncs stands for \"Universal Functions\" and they are NumPy functions that operate on the ndarray object."
   ]
  },
  {
   "cell_type": "code",
   "execution_count": null,
   "id": "d6f960f2",
   "metadata": {},
   "outputs": [],
   "source": [
    "# Why use ufuncs?\n",
    "# ufuncs are used to implement vectorization in NumPy which is way faster than iterating over elements.\n",
    "\n",
    "# They also provide broadcasting and additional methods like reduce, accumulate etc. that are very helpful for computation.\n",
    "\n",
    "# ufuncs also take additional arguments, like:\n",
    "\n",
    "# where boolean array or condition defining where the operations should take place.\n",
    "\n",
    "# dtype defining the return type of elements.\n",
    "\n",
    "# out output array where the return value should be copied."
   ]
  },
  {
   "cell_type": "markdown",
   "id": "9ba327ce",
   "metadata": {},
   "source": [
    "# How to create own functions :-"
   ]
  },
  {
   "cell_type": "code",
   "execution_count": null,
   "id": "6a9deb7d",
   "metadata": {},
   "outputs": [],
   "source": [
    "# To create your own ufunc, you have to define a function, like you do with normal functions in Python, then you add it to your NumPy ufunc library with the frompyfunc() method.\n",
    "\n",
    "# The frompyfunc() method takes the following arguments:\n",
    "\n",
    "# function - the name of the function.\n",
    "# inputs - the number of input arguments (arrays).\n",
    "# outputs - the number of output arrays."
   ]
  },
  {
   "cell_type": "code",
   "execution_count": 28,
   "id": "94870e69",
   "metadata": {},
   "outputs": [
    {
     "name": "stdout",
     "output_type": "stream",
     "text": [
      "[6 8 10 12]\n"
     ]
    }
   ],
   "source": [
    "# Create your own ufunc for addition:\n",
    "import numpy as np\n",
    "def myadd(x, y):\n",
    "  return x+y\n",
    "myadd = np.frompyfunc(myadd, 2, 1)\n",
    "print(myadd([1, 2, 3, 4], [5, 6, 7, 8]))"
   ]
  },
  {
   "cell_type": "code",
   "execution_count": 30,
   "id": "0902bd4c",
   "metadata": {},
   "outputs": [
    {
     "name": "stdout",
     "output_type": "stream",
     "text": [
      "<class 'numpy.ufunc'>\n"
     ]
    }
   ],
   "source": [
    "# Check if a Function is a ufunc\n",
    "# Check the type of a function to check if it is a ufunc or not.\n",
    "\n",
    "# A ufunc should return <class 'numpy.ufunc'>.\n",
    "import numpy as np\n",
    "print(type(np.add))"
   ]
  },
  {
   "cell_type": "code",
   "execution_count": 32,
   "id": "0492e326",
   "metadata": {},
   "outputs": [
    {
     "name": "stdout",
     "output_type": "stream",
     "text": [
      "<class 'function'>\n"
     ]
    }
   ],
   "source": [
    "# Check the type of another function: concatenate():\n",
    "import numpy as np\n",
    "print(type(np.concatenate))"
   ]
  },
  {
   "cell_type": "code",
   "execution_count": 36,
   "id": "3b3c6504",
   "metadata": {},
   "outputs": [
    {
     "name": "stdout",
     "output_type": "stream",
     "text": [
      "add is ufunc\n"
     ]
    }
   ],
   "source": [
    "# Use an if statement to check if the function is a ufunc or not:\n",
    "import numpy as np\n",
    "if type(np.add) == np.ufunc:\n",
    "  print('add is ufunc')\n",
    "else:\n",
    "  print('add is not ufunc')"
   ]
  },
  {
   "cell_type": "markdown",
   "id": "7d0acd31",
   "metadata": {},
   "source": [
    "# Simple Arithmetic Functions :-"
   ]
  },
  {
   "cell_type": "code",
   "execution_count": null,
   "id": "74b05bbb",
   "metadata": {},
   "outputs": [],
   "source": [
    "# You could use arithmetic operators + - * / directly between NumPy arrays, \n",
    "# but this section discusses an extension of the same where we have functions \n",
    "# that can take any array-like objects e.g. lists, tuples etc. and perform \n",
    "# arithmetic conditionally."
   ]
  },
  {
   "cell_type": "code",
   "execution_count": 37,
   "id": "e4c453df",
   "metadata": {},
   "outputs": [
    {
     "name": "stdout",
     "output_type": "stream",
     "text": [
      "[30 32 34 36 38 40]\n"
     ]
    }
   ],
   "source": [
    "# Addition\n",
    "# The add() function sums the content of two arrays, and return the results in a new array.\n",
    "\n",
    "import numpy as np\n",
    "arr1 = np.array([10, 11, 12, 13, 14, 15])\n",
    "arr2 = np.array([20, 21, 22, 23, 24, 25])\n",
    "newarr = np.add(arr1, arr2)\n",
    "print(newarr)"
   ]
  },
  {
   "cell_type": "code",
   "execution_count": 38,
   "id": "49922690",
   "metadata": {},
   "outputs": [
    {
     "name": "stdout",
     "output_type": "stream",
     "text": [
      "[-10  -1   8  17  26  35]\n"
     ]
    }
   ],
   "source": [
    "# Subtraction\n",
    "# The subtract() function subtracts the values from one array with the values from another array, and return the results in a new array.\n",
    "\n",
    "import numpy as np\n",
    "arr1 = np.array([10, 20, 30, 40, 50, 60])\n",
    "arr2 = np.array([20, 21, 22, 23, 24, 25])\n",
    "newarr = np.subtract(arr1, arr2)\n",
    "print(newarr)"
   ]
  },
  {
   "cell_type": "code",
   "execution_count": 40,
   "id": "359fbc0a",
   "metadata": {},
   "outputs": [
    {
     "name": "stdout",
     "output_type": "stream",
     "text": [
      "[ 200  420  660  920 1200 1500]\n"
     ]
    }
   ],
   "source": [
    "# Multiplication\n",
    "# The multiply() function multiplies the values from one array with the values from another array, and return the results in a new array.\n",
    "\n",
    "import numpy as np\n",
    "arr1 = np.array([10, 20, 30, 40, 50, 60])\n",
    "arr2 = np.array([20, 21, 22, 23, 24, 25])\n",
    "newarr = np.multiply(arr1, arr2)\n",
    "print(newarr)"
   ]
  },
  {
   "cell_type": "code",
   "execution_count": 42,
   "id": "815c747d",
   "metadata": {},
   "outputs": [
    {
     "name": "stdout",
     "output_type": "stream",
     "text": [
      "[ 3.33333333  4.          3.          5.         25.          1.81818182]\n"
     ]
    }
   ],
   "source": [
    "# Division\n",
    "# The divide() function divides the values from one array with the values from another array, and return the results in a new array.\n",
    "\n",
    "import numpy as np\n",
    "arr1 = np.array([10, 20, 30, 40, 50, 60])\n",
    "arr2 = np.array([3, 5, 10, 8, 2, 33])\n",
    "newarr = np.divide(arr1, arr2)\n",
    "print(newarr)"
   ]
  },
  {
   "cell_type": "code",
   "execution_count": 43,
   "id": "01af9e11",
   "metadata": {},
   "outputs": [
    {
     "name": "stdout",
     "output_type": "stream",
     "text": [
      "[      1000    3200000  729000000 -520093696       2500          0]\n"
     ]
    }
   ],
   "source": [
    "# Power\n",
    "# The power() function rises the values from the first array to the power of the values of the second array, and return the results in a new array.\n",
    "\n",
    "import numpy as np\n",
    "arr1 = np.array([10, 20, 30, 40, 50, 60])\n",
    "arr2 = np.array([3, 5, 6, 8, 2, 33])\n",
    "newarr = np.power(arr1, arr2)\n",
    "print(newarr)"
   ]
  },
  {
   "cell_type": "code",
   "execution_count": 48,
   "id": "1b8787ce",
   "metadata": {},
   "outputs": [
    {
     "name": "stdout",
     "output_type": "stream",
     "text": [
      "[ 1  6  3  0  0 27]\n",
      "[2 0 0 1 0 8]\n"
     ]
    }
   ],
   "source": [
    "# Remainder\n",
    "# Both the mod() and the remainder() functions return the remainder of the values in the first array corresponding to the values in the second array, and return the results in a new array.\n",
    "\n",
    "import numpy as np\n",
    "arr1 = np.array([10, 20, 30, 40, 50, 60])\n",
    "arr2 = np.array([3, 7, 9, 8, 2, 33])\n",
    "newarr = np.mod(arr1, arr2)\n",
    "print(newarr)\n",
    "\n",
    "arr3 = np.array([10, 20, 30, 40, 50, 60])\n",
    "arr4 = np.array([4, 5, 5, 3, 2, 13])\n",
    "newarr1 = np.remainder(arr3, arr4)\n",
    "print(newarr1)"
   ]
  },
  {
   "cell_type": "code",
   "execution_count": 50,
   "id": "60ada818",
   "metadata": {},
   "outputs": [
    {
     "name": "stdout",
     "output_type": "stream",
     "text": [
      "(array([ 3,  2,  3,  5, 25,  1]), array([ 1,  6,  3,  0,  0, 27]))\n"
     ]
    }
   ],
   "source": [
    "# Quotient and Mod\n",
    "# The divmod() function return both the quotient and the mod. The return value is two arrays, the first array contains the quotient and second array contains the mod.\n",
    "\n",
    "import numpy as np\n",
    "arr1 = np.array([10, 20, 30, 40, 50, 60])\n",
    "arr2 = np.array([3, 7, 9, 8, 2, 33])\n",
    "newarr = np.divmod(arr1, arr2)\n",
    "print(newarr)"
   ]
  },
  {
   "cell_type": "code",
   "execution_count": 51,
   "id": "941de2a9",
   "metadata": {},
   "outputs": [
    {
     "name": "stdout",
     "output_type": "stream",
     "text": [
      "[1 2 1 2 3 4]\n"
     ]
    }
   ],
   "source": [
    "# Absolute Values\n",
    "# Both the absolute() and the abs() functions do the same absolute operation element-wise but we should use absolute() to avoid confusion with python's inbuilt math.abs()\n",
    "\n",
    "import numpy as np\n",
    "arr = np.array([-1, -2, 1, 2, 3, -4])\n",
    "newarr = np.absolute(arr)\n",
    "print(newarr)"
   ]
  },
  {
   "cell_type": "markdown",
   "id": "1b93879e",
   "metadata": {},
   "source": [
    "# Rounding Decimal Functions :-"
   ]
  },
  {
   "cell_type": "code",
   "execution_count": 56,
   "id": "eee01510",
   "metadata": {},
   "outputs": [
    {
     "name": "stdout",
     "output_type": "stream",
     "text": [
      "[-3.  3.]\n",
      "[-4.  7.]\n"
     ]
    }
   ],
   "source": [
    "# Truncation\n",
    "# Remove the decimals, and return the float number closest to zero. Use the trunc() and fix() functions.\n",
    "\n",
    "import numpy as np\n",
    "arr = np.trunc([-3.1666, 3.6667])\n",
    "print(arr)\n",
    "\n",
    "# using fix():\n",
    "arr1 = np.fix([-4.1666, 7.6667])\n",
    "print(arr1)"
   ]
  },
  {
   "cell_type": "code",
   "execution_count": 58,
   "id": "d9f1dc68",
   "metadata": {},
   "outputs": [
    {
     "name": "stdout",
     "output_type": "stream",
     "text": [
      "3.17\n"
     ]
    }
   ],
   "source": [
    "# Rounding\n",
    "# The around() function increments preceding digit or decimal by 1 if >=5 else do nothing.\n",
    "\n",
    "import numpy as np\n",
    "arr = np.around(3.1666, 2)\n",
    "print(arr)"
   ]
  },
  {
   "cell_type": "code",
   "execution_count": 59,
   "id": "78fa1c90",
   "metadata": {},
   "outputs": [
    {
     "name": "stdout",
     "output_type": "stream",
     "text": [
      "[-4.  3.]\n"
     ]
    }
   ],
   "source": [
    "# Floor\n",
    "# The floor() function rounds off decimal to nearest lower integer.\n",
    "\n",
    "import numpy as np\n",
    "arr = np.floor([-3.1666, 3.6667])\n",
    "print(arr)"
   ]
  },
  {
   "cell_type": "code",
   "execution_count": 61,
   "id": "a19fec58",
   "metadata": {},
   "outputs": [
    {
     "name": "stdout",
     "output_type": "stream",
     "text": [
      "[-3.  4.]\n"
     ]
    }
   ],
   "source": [
    "# Ceil\n",
    "# The ceil() function rounds off decimal to nearest upper integer.\n",
    "\n",
    "import numpy as np\n",
    "arr = np.ceil([-3.1666, 3.6667])\n",
    "print(arr)"
   ]
  },
  {
   "cell_type": "markdown",
   "id": "51750ea9",
   "metadata": {},
   "source": [
    "# Log Functions :-"
   ]
  },
  {
   "cell_type": "code",
   "execution_count": 62,
   "id": "ed18ec25",
   "metadata": {},
   "outputs": [],
   "source": [
    "# NumPy provides functions to perform log at the base 2, e and 10.\n",
    "\n",
    "# We will also explore how we can take log for any base by creating a custom ufunc.\n",
    "\n",
    "# All of the log functions will place -inf or inf in the elements if the log can not be computed."
   ]
  },
  {
   "cell_type": "code",
   "execution_count": 65,
   "id": "a2659501",
   "metadata": {},
   "outputs": [
    {
     "name": "stdout",
     "output_type": "stream",
     "text": [
      "[0.         1.         1.5849625  2.         2.32192809 2.5849625\n",
      " 2.80735492 3.         3.169925  ]\n"
     ]
    }
   ],
   "source": [
    "# Log at Base 2\n",
    "# Use the log2() function to perform log at the base 2.\n",
    "\n",
    "import numpy as np\n",
    "arr = np.arange(1, 10)\n",
    "print(np.log2(arr))"
   ]
  },
  {
   "cell_type": "code",
   "execution_count": 66,
   "id": "b9a5c85b",
   "metadata": {},
   "outputs": [
    {
     "name": "stdout",
     "output_type": "stream",
     "text": [
      "[0.         0.30103    0.47712125 0.60205999 0.69897    0.77815125\n",
      " 0.84509804 0.90308999 0.95424251]\n"
     ]
    }
   ],
   "source": [
    "# Log at Base 10\n",
    "# Use the log10() function to perform log at the base 10.\n",
    "\n",
    "import numpy as np\n",
    "arr = np.arange(1, 10)\n",
    "print(np.log10(arr))"
   ]
  },
  {
   "cell_type": "code",
   "execution_count": 67,
   "id": "3ba04464",
   "metadata": {},
   "outputs": [
    {
     "name": "stdout",
     "output_type": "stream",
     "text": [
      "[0.         0.69314718 1.09861229 1.38629436 1.60943791 1.79175947\n",
      " 1.94591015 2.07944154 2.19722458]\n"
     ]
    }
   ],
   "source": [
    "# Natural Log, or Log at Base e\n",
    "# Use the log() function to perform log at the base e.\n",
    "\n",
    "import numpy as np\n",
    "arr = np.arange(1, 10)\n",
    "print(np.log(arr))"
   ]
  },
  {
   "cell_type": "code",
   "execution_count": 68,
   "id": "8575c4ac",
   "metadata": {},
   "outputs": [
    {
     "name": "stdout",
     "output_type": "stream",
     "text": [
      "1.7005483074552052\n"
     ]
    }
   ],
   "source": [
    "# Log at Any Base\n",
    "# NumPy does not provide any function to take log at any base, so we can use the frompyfunc() function along with inbuilt function math.log() with two input parameters and one output parameter:\n",
    "\n",
    "from math import log\n",
    "import numpy as np\n",
    "nplog = np.frompyfunc(log, 2, 1)\n",
    "print(nplog(100, 15))"
   ]
  },
  {
   "cell_type": "markdown",
   "id": "bac7b746",
   "metadata": {},
   "source": [
    "# Set Operations :-"
   ]
  },
  {
   "cell_type": "code",
   "execution_count": null,
   "id": "935d1e0f",
   "metadata": {},
   "outputs": [],
   "source": [
    "# A set in mathematics is a collection of unique elements.\n",
    "\n",
    "# Sets are used for operations involving frequent intersection, union and difference operations."
   ]
  },
  {
   "cell_type": "code",
   "execution_count": 6,
   "id": "7b71793d",
   "metadata": {},
   "outputs": [
    {
     "name": "stdout",
     "output_type": "stream",
     "text": [
      "[23 34 45 56 67 78 89 90]\n"
     ]
    }
   ],
   "source": [
    "# Unique() :- We can use NumPy's unique() method to find unique elements from any array.\n",
    "import numpy as np\n",
    "arr=np.array([34,56,78,89,34,67,89,90,45,23,45,67,78])\n",
    "newarray=np.unique(arr)\n",
    "print(newarray)"
   ]
  },
  {
   "cell_type": "code",
   "execution_count": 14,
   "id": "060cf060",
   "metadata": {},
   "outputs": [
    {
     "name": "stdout",
     "output_type": "stream",
     "text": [
      "[10 20 21 30 32 40 43 50 54 60]\n"
     ]
    }
   ],
   "source": [
    "# Union1d() :- To find the unique values of two arrays, use the union1d() method.\n",
    "import numpy as np\n",
    "x=np.array([10,20,30,40,50,60])\n",
    "y=np.array([21,10,30,32,43,54])\n",
    "newarr=np.union1d(x,y)\n",
    "print(newarr)"
   ]
  },
  {
   "cell_type": "code",
   "execution_count": 15,
   "id": "297daceb",
   "metadata": {},
   "outputs": [
    {
     "name": "stdout",
     "output_type": "stream",
     "text": [
      "[23 45 56]\n"
     ]
    }
   ],
   "source": [
    "# Intersect1d() :- To find only the values that are present in both arrays, use the intersect1d() method.\n",
    "import numpy as np\n",
    "x=np.array([45,56,76,23,12,54])\n",
    "y=np.array([63,34,55,45,23,56])\n",
    "newarr=np.intersect1d(x,y)\n",
    "print(newarr)"
   ]
  },
  {
   "cell_type": "code",
   "execution_count": 16,
   "id": "a99ea166",
   "metadata": {},
   "outputs": [
    {
     "name": "stdout",
     "output_type": "stream",
     "text": [
      "[67]\n"
     ]
    }
   ],
   "source": [
    "# setdiff1d() :- To find only the values in the first set that is NOT present in the seconds set, use the setdiff1d() method.\n",
    "import numpy as np\n",
    "x=np.array([12,23,34,12,34,56,67,78,56])\n",
    "y=np.array([78,23,34,43,32,12,54,56,76])\n",
    "newarr=np.setdiff1d(x,y)\n",
    "print(newarr)"
   ]
  },
  {
   "cell_type": "code",
   "execution_count": 17,
   "id": "f6e90e0d",
   "metadata": {},
   "outputs": [
    {
     "name": "stdout",
     "output_type": "stream",
     "text": [
      "[23 45 56]\n"
     ]
    }
   ],
   "source": [
    "# setxor1d() :- To find only the values that are NOT present in BOTH sets, use the setxor1d() method.\n",
    "import numpy as np\n",
    "x=np.array([12,23])\n",
    "y=np.array([12,45,56])\n",
    "newarr=np.setxor1d(x,y)\n",
    "print(newarr)"
   ]
  },
  {
   "cell_type": "markdown",
   "id": "fb825c20",
   "metadata": {},
   "source": [
    "# Summations Functions :-"
   ]
  },
  {
   "cell_type": "code",
   "execution_count": 18,
   "id": "5ecb7dca",
   "metadata": {},
   "outputs": [
    {
     "name": "stdout",
     "output_type": "stream",
     "text": [
      "[33 55 77 99]\n"
     ]
    }
   ],
   "source": [
    "# add() :- Addition is done between two arguments.\n",
    "import numpy as np\n",
    "x=np.array([12,23,34,45])\n",
    "y=np.array([21,32,43,54])\n",
    "newarr=np.add(x,y)\n",
    "print(newarr)"
   ]
  },
  {
   "cell_type": "code",
   "execution_count": 19,
   "id": "8afbec73",
   "metadata": {},
   "outputs": [
    {
     "name": "stdout",
     "output_type": "stream",
     "text": [
      "1st method :-\n",
      "36\n",
      "2nd method :-\n",
      "36\n",
      "3rd method :-\n",
      "[20 16]\n"
     ]
    }
   ],
   "source": [
    "# sum() :- \n",
    "import numpy as np\n",
    "print(\"1st method :-\")\n",
    "x=np.array([2,4,6,8])\n",
    "y=np.array([1,3,5,7])\n",
    "newarr=np.sum([x,y])\n",
    "print(newarr)\n",
    "print(\"2nd method :-\")\n",
    "x=np.array([2,4,6,8])\n",
    "y=np.array([1,3,5,7])\n",
    "newarr=np.sum(x)\n",
    "newarr1=np.sum(y)\n",
    "newarr2=np.sum(x) + np.sum(y)\n",
    "print(newarr2)\n",
    "print(\"3rd method :-\")\n",
    "x=np.array([2,4,6,8])\n",
    "y=np.array([1,3,5,7])\n",
    "newarr=np.sum([x,y],axis=1)\n",
    "print(newarr)"
   ]
  },
  {
   "cell_type": "code",
   "execution_count": 20,
   "id": "f4a4e733",
   "metadata": {},
   "outputs": [
    {
     "name": "stdout",
     "output_type": "stream",
     "text": [
      "[ 1  3  6 10]\n"
     ]
    }
   ],
   "source": [
    "# cumsum() :- Cummulative sum means partially adding the elements in array.\n",
    "import numpy as np\n",
    "x=np.array([1,2,3,4])\n",
    "newarr=np.cumsum(x)\n",
    "print(newarr)"
   ]
  },
  {
   "cell_type": "markdown",
   "id": "ed8c9121",
   "metadata": {},
   "source": [
    "# Product Functions :-"
   ]
  },
  {
   "cell_type": "code",
   "execution_count": 55,
   "id": "e696acc4",
   "metadata": {},
   "outputs": [
    {
     "name": "stdout",
     "output_type": "stream",
     "text": [
      "24 [..because 1*2*3*4=24..]\n"
     ]
    }
   ],
   "source": [
    "# prod() :- To find the product of the elements in an array, use the prod() function.\n",
    "import numpy as np\n",
    "x=np.array([1,2,3,4])\n",
    "newarr=np.prod(x)\n",
    "print(newarr, \"[..because 1*2*3*4=24..]\")"
   ]
  },
  {
   "cell_type": "code",
   "execution_count": 57,
   "id": "5f488db0",
   "metadata": {},
   "outputs": [
    {
     "name": "stdout",
     "output_type": "stream",
     "text": [
      "1296 [..because 2*2*2*2*3*3*3*3=1296..]\n"
     ]
    }
   ],
   "source": [
    "# product of two arrays :-\n",
    "import numpy as np\n",
    "x=np.array([2,2,2,2])\n",
    "y=np.array([3,3,3,3])\n",
    "newarr=np.prod([x,y])\n",
    "print(newarr, \"[..because 2*2*2*2*3*3*3*3=1296..]\")"
   ]
  },
  {
   "cell_type": "code",
   "execution_count": 59,
   "id": "6dd08ff3",
   "metadata": {},
   "outputs": [
    {
     "name": "stdout",
     "output_type": "stream",
     "text": [
      "[16 81] [..because 2*2*2*2=16..   ..3*3*3*3=81..]\n"
     ]
    }
   ],
   "source": [
    "# product over an axis :- If you specify axis=1, NumPy will return the product of each array.\n",
    "import numpy as np\n",
    "x=np.array([2,2,2,2])\n",
    "y=np.array([3,3,3,3])\n",
    "newarr=np.prod([x,y],axis=1)\n",
    "print(newarr, \"[..because 2*2*2*2=16..   ..3*3*3*3=81..]\")"
   ]
  },
  {
   "cell_type": "code",
   "execution_count": 61,
   "id": "604d1e3b",
   "metadata": {},
   "outputs": [
    {
     "name": "stdout",
     "output_type": "stream",
     "text": [
      "[   5   30  210 1680] [..because 5, 5*6 = 30, 30*7 = 210, 210*8 = 1680..]\n"
     ]
    }
   ],
   "source": [
    "# cumprod() :- Cummulative product means taking the product partially.\n",
    "import numpy as np\n",
    "x=np.array([5,6,7,8])\n",
    "newarr=np.cumprod(x)\n",
    "print(newarr,\"[..because 5, 5*6 = 30, 30*7 = 210, 210*8 = 1680..]\")"
   ]
  },
  {
   "cell_type": "markdown",
   "id": "66f63e5f",
   "metadata": {},
   "source": [
    "# Trigonometric Functions :-"
   ]
  },
  {
   "cell_type": "code",
   "execution_count": 3,
   "id": "07a69616",
   "metadata": {},
   "outputs": [
    {
     "name": "stdout",
     "output_type": "stream",
     "text": [
      "1.0\n"
     ]
    }
   ],
   "source": [
    "import numpy as np\n",
    "x = np.sin(np.pi/2)\n",
    "print(x)"
   ]
  },
  {
   "cell_type": "code",
   "execution_count": 6,
   "id": "20851f94",
   "metadata": {},
   "outputs": [
    {
     "name": "stdout",
     "output_type": "stream",
     "text": [
      "[1.         0.8660254  0.70710678 0.58778525]\n"
     ]
    }
   ],
   "source": [
    "import numpy as np\n",
    "arr = np.array([np.pi/2, np.pi/3, np.pi/4, np.pi/5])\n",
    "x = np.sin(arr)\n",
    "print(x)"
   ]
  },
  {
   "cell_type": "code",
   "execution_count": 9,
   "id": "dc56caa6",
   "metadata": {},
   "outputs": [
    {
     "name": "stdout",
     "output_type": "stream",
     "text": [
      "[1.57079633 3.14159265 4.71238898 6.28318531]\n"
     ]
    }
   ],
   "source": [
    "# Convert Degrees into Radians :-\n",
    "import numpy as np\n",
    "arr = np.array([90, 180, 270, 360])\n",
    "x = np.deg2rad(arr)\n",
    "print(x)"
   ]
  },
  {
   "cell_type": "code",
   "execution_count": 10,
   "id": "7c1fcedf",
   "metadata": {},
   "outputs": [
    {
     "name": "stdout",
     "output_type": "stream",
     "text": [
      "[ 90. 180. 270. 360.]\n"
     ]
    }
   ],
   "source": [
    "# Convert radians into degrees :-\n",
    "import numpy as np\n",
    "arr = np.array([np.pi/2, np.pi, 1.5*np.pi, 2*np.pi])\n",
    "x = np.rad2deg(arr)\n",
    "print(x)"
   ]
  },
  {
   "cell_type": "code",
   "execution_count": 13,
   "id": "310df68e",
   "metadata": {},
   "outputs": [
    {
     "name": "stdout",
     "output_type": "stream",
     "text": [
      "1.5707963267948966\n"
     ]
    }
   ],
   "source": [
    "# Finding angles :-\n",
    "import numpy as np\n",
    "x = np.arcsin(1.0)\n",
    "print(x)"
   ]
  },
  {
   "cell_type": "code",
   "execution_count": 16,
   "id": "feed6bbf",
   "metadata": {},
   "outputs": [
    {
     "name": "stdout",
     "output_type": "stream",
     "text": [
      "[ 1.57079633 -1.57079633  0.10016742]\n"
     ]
    }
   ],
   "source": [
    "# Angles of each value in array :-\n",
    "import numpy as np\n",
    "arr = np.array([1, -1, 0.1])\n",
    "x = np.arcsin(arr)\n",
    "print(x)"
   ]
  },
  {
   "cell_type": "code",
   "execution_count": 18,
   "id": "657b3eda",
   "metadata": {},
   "outputs": [
    {
     "name": "stdout",
     "output_type": "stream",
     "text": [
      "5.0\n"
     ]
    }
   ],
   "source": [
    "# Hypoteneous :-\n",
    "import numpy as np\n",
    "base = 3\n",
    "perp = 4\n",
    "x = np.hypot(base, perp)\n",
    "print(x)"
   ]
  },
  {
   "cell_type": "markdown",
   "id": "39515be1",
   "metadata": {},
   "source": [
    "# Hyperbolic Functions :-"
   ]
  },
  {
   "cell_type": "code",
   "execution_count": 20,
   "id": "6909eeea",
   "metadata": {},
   "outputs": [],
   "source": [
    "# NumPy provides the ufuncs sinh(), cosh() and tanh() that take values in radians and produce the corresponding sinh, cosh and tanh values."
   ]
  },
  {
   "cell_type": "code",
   "execution_count": 22,
   "id": "6e22b010",
   "metadata": {},
   "outputs": [
    {
     "name": "stdout",
     "output_type": "stream",
     "text": [
      "2.3012989023072947\n"
     ]
    }
   ],
   "source": [
    "import numpy as np\n",
    "x = np.sinh(np.pi/2)\n",
    "print(x)"
   ]
  },
  {
   "cell_type": "code",
   "execution_count": 24,
   "id": "dd97a8be",
   "metadata": {},
   "outputs": [
    {
     "name": "stdout",
     "output_type": "stream",
     "text": [
      "[2.50917848 1.60028686 1.32460909 1.20397209]\n"
     ]
    }
   ],
   "source": [
    "import numpy as np\n",
    "arr = np.array([np.pi/2, np.pi/3, np.pi/4, np.pi/5])\n",
    "x = np.cosh(arr)\n",
    "print(x)"
   ]
  },
  {
   "cell_type": "code",
   "execution_count": 25,
   "id": "03e90d3f",
   "metadata": {},
   "outputs": [
    {
     "name": "stdout",
     "output_type": "stream",
     "text": [
      "0.881373587019543\n"
     ]
    }
   ],
   "source": [
    "# Finding angles :-\n",
    "import numpy as np\n",
    "x = np.arcsinh(1.0)\n",
    "print(x)"
   ]
  },
  {
   "cell_type": "code",
   "execution_count": 69,
   "id": "03f4f74d",
   "metadata": {},
   "outputs": [
    {
     "name": "stdout",
     "output_type": "stream",
     "text": [
      "[0.10033535 0.20273255 0.54930614]\n"
     ]
    }
   ],
   "source": [
    "# angles of each value in array :-\n",
    "import numpy as np\n",
    "arr = np.array([0.1, 0.2, 0.5])\n",
    "x = np.arctanh(arr)\n",
    "print(x)"
   ]
  },
  {
   "cell_type": "markdown",
   "id": "61d78b0b",
   "metadata": {},
   "source": [
    "# LCM (Lowest Common Factor) Functions :-"
   ]
  },
  {
   "cell_type": "code",
   "execution_count": 70,
   "id": "33596d40",
   "metadata": {},
   "outputs": [],
   "source": [
    "# The Lowest Common Multiple is the smallest number that is a common multiple of two numbers."
   ]
  },
  {
   "cell_type": "code",
   "execution_count": 72,
   "id": "a5401f2b",
   "metadata": {},
   "outputs": [
    {
     "name": "stdout",
     "output_type": "stream",
     "text": [
      "12\n"
     ]
    }
   ],
   "source": [
    "import numpy as np\n",
    "num1 = 4\n",
    "num2 = 6\n",
    "x = np.lcm(num1, num2)\n",
    "print(x)"
   ]
  },
  {
   "cell_type": "code",
   "execution_count": 74,
   "id": "1fdc1403",
   "metadata": {},
   "outputs": [
    {
     "name": "stdout",
     "output_type": "stream",
     "text": [
      "18\n"
     ]
    }
   ],
   "source": [
    "# Finding LCM in Arrays\n",
    "# To find the Lowest Common Multiple of all values in an array, you can use the reduce() method.\n",
    "\n",
    "# The reduce() method will use the ufunc, in this case the lcm() function, on each element, and reduce the array by one dimension.\n",
    "\n",
    "import numpy as np\n",
    "arr = np.array([3, 6, 9])\n",
    "x = np.lcm.reduce(arr)\n",
    "print(x)"
   ]
  },
  {
   "cell_type": "code",
   "execution_count": 76,
   "id": "bc64093e",
   "metadata": {},
   "outputs": [
    {
     "name": "stdout",
     "output_type": "stream",
     "text": [
      "2520\n"
     ]
    }
   ],
   "source": [
    "import numpy as np\n",
    "arr = np.arange(1, 11)\n",
    "x = np.lcm.reduce(arr)\n",
    "print(x)"
   ]
  },
  {
   "cell_type": "markdown",
   "id": "0483b7d6",
   "metadata": {},
   "source": [
    "# GCD (Greatest Common Denominator) Functions :-"
   ]
  },
  {
   "cell_type": "code",
   "execution_count": 78,
   "id": "16b7e4b3",
   "metadata": {},
   "outputs": [],
   "source": [
    "# The GCD (Greatest Common Denominator), also known as HCF (Highest Common Factor) is the biggest number that is a common factor of both of the numbers."
   ]
  },
  {
   "cell_type": "code",
   "execution_count": 80,
   "id": "f5904528",
   "metadata": {},
   "outputs": [
    {
     "name": "stdout",
     "output_type": "stream",
     "text": [
      "3\n"
     ]
    }
   ],
   "source": [
    "import numpy as np\n",
    "num1 = 6\n",
    "num2 = 9\n",
    "x = np.gcd(num1, num2)\n",
    "print(x)"
   ]
  },
  {
   "cell_type": "code",
   "execution_count": 81,
   "id": "4c131d10",
   "metadata": {},
   "outputs": [
    {
     "name": "stdout",
     "output_type": "stream",
     "text": [
      "4\n"
     ]
    }
   ],
   "source": [
    "# Finding GCD in Arrays\n",
    "# To find the Highest Common Factor of all values in an array, you can use the reduce() method.\n",
    "\n",
    "# The reduce() method will use the ufunc, in this case the gcd() function, on each element, and reduce the array by one dimension.\n",
    "\n",
    "import numpy as np\n",
    "arr = np.array([20, 8, 32, 36, 16])\n",
    "x = np.gcd.reduce(arr)\n",
    "print(x)"
   ]
  }
 ],
 "metadata": {
  "kernelspec": {
   "display_name": "Python 3 (ipykernel)",
   "language": "python",
   "name": "python3"
  },
  "language_info": {
   "codemirror_mode": {
    "name": "ipython",
    "version": 3
   },
   "file_extension": ".py",
   "mimetype": "text/x-python",
   "name": "python",
   "nbconvert_exporter": "python",
   "pygments_lexer": "ipython3",
   "version": "3.11.5"
  }
 },
 "nbformat": 4,
 "nbformat_minor": 5
}
