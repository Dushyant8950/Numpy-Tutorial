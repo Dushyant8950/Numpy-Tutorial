{
 "cells": [
  {
   "cell_type": "code",
   "execution_count": 1,
   "id": "1576cd80",
   "metadata": {},
   "outputs": [],
   "source": [
    "import numpy as np"
   ]
  },
  {
   "cell_type": "code",
   "execution_count": 2,
   "id": "75bae6a0",
   "metadata": {},
   "outputs": [
    {
     "data": {
      "text/plain": [
       "[23, 34, 45, 56, 67]"
      ]
     },
     "execution_count": 2,
     "metadata": {},
     "output_type": "execute_result"
    }
   ],
   "source": [
    "li=[23,34,45,56,67]\n",
    "li"
   ]
  },
  {
   "cell_type": "code",
   "execution_count": 3,
   "id": "333a5430",
   "metadata": {},
   "outputs": [
    {
     "data": {
      "text/plain": [
       "array([23, 34, 45, 56, 67])"
      ]
     },
     "execution_count": 3,
     "metadata": {},
     "output_type": "execute_result"
    }
   ],
   "source": [
    "ar=np.array(li)\n",
    "ar"
   ]
  },
  {
   "cell_type": "code",
   "execution_count": 4,
   "id": "3de496b5",
   "metadata": {},
   "outputs": [
    {
     "data": {
      "text/plain": [
       "numpy.ndarray"
      ]
     },
     "execution_count": 4,
     "metadata": {},
     "output_type": "execute_result"
    }
   ],
   "source": [
    "type(ar)"
   ]
  },
  {
   "cell_type": "code",
   "execution_count": 5,
   "id": "6a230f08",
   "metadata": {},
   "outputs": [],
   "source": [
    "l=[1,2,3,4,6.4,5.4,'a',True,3+2j]"
   ]
  },
  {
   "cell_type": "code",
   "execution_count": 6,
   "id": "2f36ae2a",
   "metadata": {},
   "outputs": [
    {
     "name": "stdout",
     "output_type": "stream",
     "text": [
      "['1' '2' '3' '4' '6.4' '5.4' 'a' 'True' '(3+2j)']\n",
      "<class 'numpy.ndarray'>\n"
     ]
    },
    {
     "data": {
      "text/plain": [
       "dtype('<U64')"
      ]
     },
     "execution_count": 6,
     "metadata": {},
     "output_type": "execute_result"
    }
   ],
   "source": [
    "ar1=np.array(l)\n",
    "print(ar1)\n",
    "print(type(ar1))\n",
    "ar1.dtype"
   ]
  },
  {
   "cell_type": "code",
   "execution_count": 7,
   "id": "9f0c7a66",
   "metadata": {},
   "outputs": [
    {
     "data": {
      "text/plain": [
       "1"
      ]
     },
     "execution_count": 7,
     "metadata": {},
     "output_type": "execute_result"
    }
   ],
   "source": [
    "ar1.ndim"
   ]
  },
  {
   "cell_type": "code",
   "execution_count": 8,
   "id": "1718a9d5",
   "metadata": {},
   "outputs": [
    {
     "name": "stdout",
     "output_type": "stream",
     "text": [
      "(9,)\n",
      "9\n"
     ]
    },
    {
     "data": {
      "text/plain": [
       "9"
      ]
     },
     "execution_count": 8,
     "metadata": {},
     "output_type": "execute_result"
    }
   ],
   "source": [
    "print(ar1.shape)\n",
    "print(len(ar1))\n",
    "ar1.size"
   ]
  },
  {
   "cell_type": "code",
   "execution_count": 9,
   "id": "cbafd6c1",
   "metadata": {},
   "outputs": [],
   "source": [
    "L=[[1,2,3],[4,5,6],[7,8,9],[10,11,12]]"
   ]
  },
  {
   "cell_type": "code",
   "execution_count": 10,
   "id": "f613aa3d",
   "metadata": {},
   "outputs": [],
   "source": [
    "a=np.array(L)"
   ]
  },
  {
   "cell_type": "code",
   "execution_count": 11,
   "id": "eda0ad89",
   "metadata": {},
   "outputs": [
    {
     "data": {
      "text/plain": [
       "array([[ 1,  2,  3],\n",
       "       [ 4,  5,  6],\n",
       "       [ 7,  8,  9],\n",
       "       [10, 11, 12]])"
      ]
     },
     "execution_count": 11,
     "metadata": {},
     "output_type": "execute_result"
    }
   ],
   "source": [
    "a"
   ]
  },
  {
   "cell_type": "code",
   "execution_count": 12,
   "id": "1e7c3c35",
   "metadata": {},
   "outputs": [
    {
     "data": {
      "text/plain": [
       "(4, 3)"
      ]
     },
     "execution_count": 12,
     "metadata": {},
     "output_type": "execute_result"
    }
   ],
   "source": [
    "a.shape"
   ]
  },
  {
   "cell_type": "code",
   "execution_count": 13,
   "id": "e1133eed",
   "metadata": {},
   "outputs": [
    {
     "data": {
      "text/plain": [
       "2"
      ]
     },
     "execution_count": 13,
     "metadata": {},
     "output_type": "execute_result"
    }
   ],
   "source": [
    "a.ndim"
   ]
  },
  {
   "cell_type": "code",
   "execution_count": 14,
   "id": "fdda56f2",
   "metadata": {},
   "outputs": [
    {
     "name": "stdout",
     "output_type": "stream",
     "text": [
      "12\n",
      "(4, 3)\n"
     ]
    },
    {
     "data": {
      "text/plain": [
       "4"
      ]
     },
     "execution_count": 14,
     "metadata": {},
     "output_type": "execute_result"
    }
   ],
   "source": [
    "print(a.size)\n",
    "print(a.shape)\n",
    "len(a)"
   ]
  },
  {
   "cell_type": "code",
   "execution_count": 15,
   "id": "17025b59",
   "metadata": {},
   "outputs": [],
   "source": [
    "A=[[[1,2,3],[4,5,6]],[[7,8,9],[10,11,12]]]"
   ]
  },
  {
   "cell_type": "code",
   "execution_count": 16,
   "id": "d24c984c",
   "metadata": {},
   "outputs": [],
   "source": [
    "ar3=np.array(A)"
   ]
  },
  {
   "cell_type": "code",
   "execution_count": 17,
   "id": "7d7317bf",
   "metadata": {},
   "outputs": [
    {
     "data": {
      "text/plain": [
       "array([[[ 1,  2,  3],\n",
       "        [ 4,  5,  6]],\n",
       "\n",
       "       [[ 7,  8,  9],\n",
       "        [10, 11, 12]]])"
      ]
     },
     "execution_count": 17,
     "metadata": {},
     "output_type": "execute_result"
    }
   ],
   "source": [
    "ar3"
   ]
  },
  {
   "cell_type": "code",
   "execution_count": 18,
   "id": "f357fd56",
   "metadata": {},
   "outputs": [
    {
     "name": "stdout",
     "output_type": "stream",
     "text": [
      "(2, 2, 3)\n",
      "12\n"
     ]
    },
    {
     "data": {
      "text/plain": [
       "2"
      ]
     },
     "execution_count": 18,
     "metadata": {},
     "output_type": "execute_result"
    }
   ],
   "source": [
    "print(ar3.shape)\n",
    "print(ar3.size)\n",
    "len(ar3)"
   ]
  },
  {
   "cell_type": "code",
   "execution_count": 19,
   "id": "1b58c5e2",
   "metadata": {},
   "outputs": [
    {
     "name": "stdout",
     "output_type": "stream",
     "text": [
      "3\n"
     ]
    },
    {
     "data": {
      "text/plain": [
       "(24, 12, 4)"
      ]
     },
     "execution_count": 19,
     "metadata": {},
     "output_type": "execute_result"
    }
   ],
   "source": [
    "print(ar3.ndim)\n",
    "ar3.strides"
   ]
  },
  {
   "cell_type": "code",
   "execution_count": 20,
   "id": "98fcdb9c",
   "metadata": {},
   "outputs": [
    {
     "data": {
      "text/plain": [
       "array([0, 0, 0, 0])"
      ]
     },
     "execution_count": 20,
     "metadata": {},
     "output_type": "execute_result"
    }
   ],
   "source": [
    "np.zeros(4,dtype=int,order='F')"
   ]
  },
  {
   "cell_type": "code",
   "execution_count": 21,
   "id": "974dc0bb",
   "metadata": {},
   "outputs": [
    {
     "name": "stdout",
     "output_type": "stream",
     "text": [
      "[[0. 0. 0.]\n",
      " [0. 0. 0.]\n",
      " [0. 0. 0.]\n",
      " [0. 0. 0.]\n",
      " [0. 0. 0.]]\n"
     ]
    },
    {
     "data": {
      "text/plain": [
       "dtype('float64')"
      ]
     },
     "execution_count": 21,
     "metadata": {},
     "output_type": "execute_result"
    }
   ],
   "source": [
    "Z=np.zeros((5,3),dtype=float,order=\"F\")\n",
    "print(Z)\n",
    "Z.dtype"
   ]
  },
  {
   "cell_type": "code",
   "execution_count": 22,
   "id": "3c0f7b5a",
   "metadata": {},
   "outputs": [
    {
     "data": {
      "text/plain": [
       "array([[0., 0., 0.],\n",
       "       [0., 0., 0.],\n",
       "       [0., 0., 0.],\n",
       "       [0., 0., 0.],\n",
       "       [0., 0., 0.]])"
      ]
     },
     "execution_count": 22,
     "metadata": {},
     "output_type": "execute_result"
    }
   ],
   "source": [
    "Z"
   ]
  },
  {
   "cell_type": "code",
   "execution_count": 23,
   "id": "899d4c08",
   "metadata": {},
   "outputs": [
    {
     "data": {
      "text/plain": [
       "array([[[0, 0],\n",
       "        [0, 0],\n",
       "        [0, 0]],\n",
       "\n",
       "       [[0, 0],\n",
       "        [0, 0],\n",
       "        [0, 0]]])"
      ]
     },
     "execution_count": 23,
     "metadata": {},
     "output_type": "execute_result"
    }
   ],
   "source": [
    "z=np.zeros((2,3,2),dtype=int,order=\"C\")\n",
    "z"
   ]
  },
  {
   "cell_type": "code",
   "execution_count": 24,
   "id": "3766bf72",
   "metadata": {},
   "outputs": [
    {
     "data": {
      "text/plain": [
       "array([[['1', '1', '1', '1'],\n",
       "        ['1', '1', '1', '1'],\n",
       "        ['1', '1', '1', '1']],\n",
       "\n",
       "       [['1', '1', '1', '1'],\n",
       "        ['1', '1', '1', '1'],\n",
       "        ['1', '1', '1', '1']]], dtype='<U1')"
      ]
     },
     "execution_count": 24,
     "metadata": {},
     "output_type": "execute_result"
    }
   ],
   "source": [
    "c=np.ones((2,3,4),dtype=str)\n",
    "c"
   ]
  },
  {
   "cell_type": "code",
   "execution_count": 25,
   "id": "6193ae18",
   "metadata": {},
   "outputs": [
    {
     "data": {
      "text/plain": [
       "array([[[456, 456, 456, 456, 456, 456, 456, 456],\n",
       "        [456, 456, 456, 456, 456, 456, 456, 456],\n",
       "        [456, 456, 456, 456, 456, 456, 456, 456],\n",
       "        [456, 456, 456, 456, 456, 456, 456, 456]],\n",
       "\n",
       "       [[456, 456, 456, 456, 456, 456, 456, 456],\n",
       "        [456, 456, 456, 456, 456, 456, 456, 456],\n",
       "        [456, 456, 456, 456, 456, 456, 456, 456],\n",
       "        [456, 456, 456, 456, 456, 456, 456, 456]]])"
      ]
     },
     "execution_count": 25,
     "metadata": {},
     "output_type": "execute_result"
    }
   ],
   "source": [
    "np.full((2,4,8),456,dtype=int)"
   ]
  },
  {
   "cell_type": "code",
   "execution_count": 26,
   "id": "edb78c33",
   "metadata": {},
   "outputs": [
    {
     "data": {
      "text/plain": [
       "array([[[3.14, 3.14, 3.14, 3.14],\n",
       "        [3.14, 3.14, 3.14, 3.14]],\n",
       "\n",
       "       [[3.14, 3.14, 3.14, 3.14],\n",
       "        [3.14, 3.14, 3.14, 3.14]],\n",
       "\n",
       "       [[3.14, 3.14, 3.14, 3.14],\n",
       "        [3.14, 3.14, 3.14, 3.14]]])"
      ]
     },
     "execution_count": 26,
     "metadata": {},
     "output_type": "execute_result"
    }
   ],
   "source": [
    "np.full((3,2,4),3.14)"
   ]
  },
  {
   "cell_type": "code",
   "execution_count": 27,
   "id": "8616a418",
   "metadata": {},
   "outputs": [
    {
     "data": {
      "text/plain": [
       "array([[1, 0, 0, 0, 0],\n",
       "       [0, 1, 0, 0, 0],\n",
       "       [0, 0, 1, 0, 0],\n",
       "       [0, 0, 0, 1, 0],\n",
       "       [0, 0, 0, 0, 1]])"
      ]
     },
     "execution_count": 27,
     "metadata": {},
     "output_type": "execute_result"
    }
   ],
   "source": [
    "np.identity(5,dtype=int)"
   ]
  },
  {
   "cell_type": "code",
   "execution_count": 28,
   "id": "439b94d3",
   "metadata": {},
   "outputs": [
    {
     "data": {
      "text/plain": [
       "array([  0,  20,  40,  60,  80, 100, 120, 140, 160, 180, 200])"
      ]
     },
     "execution_count": 28,
     "metadata": {},
     "output_type": "execute_result"
    }
   ],
   "source": [
    "a=np.arange(0,201,20,dtype=int)\n",
    "a"
   ]
  },
  {
   "cell_type": "code",
   "execution_count": 29,
   "id": "60ddef19",
   "metadata": {},
   "outputs": [
    {
     "name": "stdout",
     "output_type": "stream",
     "text": [
      "[ 20  16  12   8   4   0  -4  -8 -12 -16 -20]\n"
     ]
    },
    {
     "data": {
      "text/plain": [
       "0"
      ]
     },
     "execution_count": 29,
     "metadata": {},
     "output_type": "execute_result"
    }
   ],
   "source": [
    "A=np.arange(20,-21,-4)\n",
    "print(A)\n",
    "A.sum()"
   ]
  },
  {
   "cell_type": "code",
   "execution_count": 30,
   "id": "6b913e96",
   "metadata": {},
   "outputs": [
    {
     "name": "stdout",
     "output_type": "stream",
     "text": [
      "[10 11 12 13 14 15 16 17 18]\n"
     ]
    },
    {
     "data": {
      "text/plain": [
       "(array([20.  , 21.25, 22.5 , 23.75, 25.  , 26.25, 27.5 , 28.75]), 1.25)"
      ]
     },
     "execution_count": 30,
     "metadata": {},
     "output_type": "execute_result"
    }
   ],
   "source": [
    "print(np.linspace(10,20,9,endpoint=False,dtype=int))\n",
    "np.linspace(20,30,8,endpoint=False,dtype=float,retstep=True)"
   ]
  },
  {
   "cell_type": "code",
   "execution_count": 31,
   "id": "a0d7699e",
   "metadata": {},
   "outputs": [
    {
     "data": {
      "text/plain": [
       "array([1.e+010, 1.e+100])"
      ]
     },
     "execution_count": 31,
     "metadata": {},
     "output_type": "execute_result"
    }
   ],
   "source": [
    "np.logspace(10,100,2,base=10)"
   ]
  },
  {
   "cell_type": "code",
   "execution_count": 32,
   "id": "a5c1802b",
   "metadata": {},
   "outputs": [
    {
     "data": {
      "text/plain": [
       "array([ 1.        ,  1.39495079,  1.94588772,  2.71441762,  3.78647901,\n",
       "        5.2819519 ,  7.368063  , 10.27808533, 14.33742329, 20.        ])"
      ]
     },
     "execution_count": 32,
     "metadata": {},
     "output_type": "execute_result"
    }
   ],
   "source": [
    "np.geomspace(1,20,10)"
   ]
  },
  {
   "cell_type": "code",
   "execution_count": 33,
   "id": "3851969b",
   "metadata": {},
   "outputs": [
    {
     "name": "stdout",
     "output_type": "stream",
     "text": [
      "<class 'numpy.ndarray'>\n"
     ]
    },
    {
     "data": {
      "text/plain": [
       "array([23, 45, 78, 98])"
      ]
     },
     "execution_count": 33,
     "metadata": {},
     "output_type": "execute_result"
    }
   ],
   "source": [
    "b=np.array((23,45,78,98))\n",
    "print(type(b))\n",
    "b"
   ]
  },
  {
   "cell_type": "code",
   "execution_count": 34,
   "id": "9fba9200",
   "metadata": {},
   "outputs": [
    {
     "name": "stdout",
     "output_type": "stream",
     "text": [
      "{1, 2, 3, 4, 5, 6, 7, 8, 9}\n",
      "0\n"
     ]
    },
    {
     "data": {
      "text/plain": [
       "numpy.ndarray"
      ]
     },
     "execution_count": 34,
     "metadata": {},
     "output_type": "execute_result"
    }
   ],
   "source": [
    "a=np.array({1,2,3,4,5,6,7,8,9,1,1,1,1})\n",
    "print(a)\n",
    "print(a.ndim)\n",
    "a.shape\n",
    "type(a)"
   ]
  },
  {
   "cell_type": "code",
   "execution_count": 35,
   "id": "8fc1e087",
   "metadata": {},
   "outputs": [
    {
     "name": "stdout",
     "output_type": "stream",
     "text": [
      "0\n"
     ]
    },
    {
     "data": {
      "text/plain": [
       "array({1: 23, 2: 46}, dtype=object)"
      ]
     },
     "execution_count": 35,
     "metadata": {},
     "output_type": "execute_result"
    }
   ],
   "source": [
    "c=np.array({1:23,2:46})\n",
    "print(c.ndim)\n",
    "c"
   ]
  },
  {
   "cell_type": "code",
   "execution_count": 36,
   "id": "3d406dbf",
   "metadata": {},
   "outputs": [
    {
     "data": {
      "text/plain": [
       "array([ 1,  2,  3,  4,  5,  6,  7,  8,  9, 10, 11, 12, 13, 14, 15, 16, 17,\n",
       "       18, 19, 20, 21, 22, 23, 24, 25, 26, 27, 28, 29, 30])"
      ]
     },
     "execution_count": 36,
     "metadata": {},
     "output_type": "execute_result"
    }
   ],
   "source": [
    "n1=np.arange(1,31)\n",
    "n1"
   ]
  },
  {
   "cell_type": "code",
   "execution_count": 37,
   "id": "48af1c4c",
   "metadata": {},
   "outputs": [
    {
     "data": {
      "text/plain": [
       "array([[ 1,  2,  3,  4,  5],\n",
       "       [ 6,  7,  8,  9, 10],\n",
       "       [11, 12, 13, 14, 15],\n",
       "       [16, 17, 18, 19, 20],\n",
       "       [21, 22, 23, 24, 25],\n",
       "       [26, 27, 28, 29, 30]])"
      ]
     },
     "execution_count": 37,
     "metadata": {},
     "output_type": "execute_result"
    }
   ],
   "source": [
    "np.reshape(n1,(5,6))\n",
    "n1.reshape(6,5)"
   ]
  },
  {
   "cell_type": "code",
   "execution_count": 38,
   "id": "863a1390",
   "metadata": {},
   "outputs": [
    {
     "data": {
      "text/plain": [
       "array([[[ 1, 16],\n",
       "        [ 6, 21],\n",
       "        [11, 26]],\n",
       "\n",
       "       [[ 2, 17],\n",
       "        [ 7, 22],\n",
       "        [12, 27]],\n",
       "\n",
       "       [[ 3, 18],\n",
       "        [ 8, 23],\n",
       "        [13, 28]],\n",
       "\n",
       "       [[ 4, 19],\n",
       "        [ 9, 24],\n",
       "        [14, 29]],\n",
       "\n",
       "       [[ 5, 20],\n",
       "        [10, 25],\n",
       "        [15, 30]]])"
      ]
     },
     "execution_count": 38,
     "metadata": {},
     "output_type": "execute_result"
    }
   ],
   "source": [
    "a=n1.reshape(5,3,2,order='F')\n",
    "a"
   ]
  },
  {
   "cell_type": "code",
   "execution_count": 39,
   "id": "756ae27e",
   "metadata": {},
   "outputs": [
    {
     "data": {
      "text/plain": [
       "array([[[ 1,  2,  3,  4,  5,  6,  7,  8,  9, 10],\n",
       "        [11, 12, 13, 14, 15, 16, 17, 18, 19, 20],\n",
       "        [21, 22, 23, 24, 25, 26, 27, 28, 29, 30]]])"
      ]
     },
     "execution_count": 39,
     "metadata": {},
     "output_type": "execute_result"
    }
   ],
   "source": [
    "np.reshape(n1,(1,3,10))"
   ]
  },
  {
   "cell_type": "code",
   "execution_count": 40,
   "id": "682b6845",
   "metadata": {},
   "outputs": [
    {
     "data": {
      "text/plain": [
       "array([[[ 1,  7, 13, 19, 25],\n",
       "        [ 4, 10, 16, 22, 28]],\n",
       "\n",
       "       [[ 2,  8, 14, 20, 26],\n",
       "        [ 5, 11, 17, 23, 29]],\n",
       "\n",
       "       [[ 3,  9, 15, 21, 27],\n",
       "        [ 6, 12, 18, 24, 30]]])"
      ]
     },
     "execution_count": 40,
     "metadata": {},
     "output_type": "execute_result"
    }
   ],
   "source": [
    "mat=np.reshape(n1,(3,2,5),order=\"F\")\n",
    "mat"
   ]
  },
  {
   "cell_type": "code",
   "execution_count": 41,
   "id": "95eda36e",
   "metadata": {},
   "outputs": [
    {
     "name": "stdout",
     "output_type": "stream",
     "text": [
      "(3, 2, 5)\n"
     ]
    },
    {
     "data": {
      "text/plain": [
       "30"
      ]
     },
     "execution_count": 41,
     "metadata": {},
     "output_type": "execute_result"
    }
   ],
   "source": [
    "print(mat.shape)\n",
    "mat.size"
   ]
  },
  {
   "cell_type": "code",
   "execution_count": 42,
   "id": "565f1d3a",
   "metadata": {},
   "outputs": [
    {
     "data": {
      "text/plain": [
       "array([[ 1,  6, 11, 16, 21, 26],\n",
       "       [ 2,  7, 12, 17, 22, 27],\n",
       "       [ 3,  8, 13, 18, 23, 28],\n",
       "       [ 4,  9, 14, 19, 24, 29],\n",
       "       [ 5, 10, 15, 20, 25, 30]])"
      ]
     },
     "execution_count": 42,
     "metadata": {},
     "output_type": "execute_result"
    }
   ],
   "source": [
    "mat.reshape(5,6,order=\"F\")"
   ]
  },
  {
   "cell_type": "code",
   "execution_count": 43,
   "id": "9f99a749",
   "metadata": {},
   "outputs": [
    {
     "name": "stdout",
     "output_type": "stream",
     "text": [
      "[[[1, 2, 3], [4, 5, 6]], [[7, 8, 9], [10, 11, 12]]]\n",
      "[[[ 1  2  3]\n",
      "  [ 4  5  6]]\n",
      "\n",
      " [[ 7  8  9]\n",
      "  [10 11 12]]]\n",
      "<class 'numpy.ndarray'>\n",
      "[ 1  2  3  4  5  6  7  8  9 10 11 12]\n"
     ]
    },
    {
     "data": {
      "text/plain": [
       "1"
      ]
     },
     "execution_count": 43,
     "metadata": {},
     "output_type": "execute_result"
    }
   ],
   "source": [
    "A1=[[[1,2,3],[4,5,6]],[[7,8,9],[10,11,12]]]\n",
    "print(A1)\n",
    "Z1=A1\n",
    "S=np.reshape(Z1,(2,2,3))\n",
    "print(S)\n",
    "E=S.flatten()\n",
    "print(type(E))\n",
    "print(E)\n",
    "E.ndim"
   ]
  },
  {
   "cell_type": "code",
   "execution_count": 44,
   "id": "45fad724",
   "metadata": {},
   "outputs": [
    {
     "name": "stdout",
     "output_type": "stream",
     "text": [
      "[[[ 1  7 13 19 25]\n",
      "  [ 4 10 16 22 28]]\n",
      "\n",
      " [[ 2  8 14 20 26]\n",
      "  [ 5 11 17 23 29]]\n",
      "\n",
      " [[ 3  9 15 21 27]\n",
      "  [ 6 12 18 24 30]]]\n"
     ]
    },
    {
     "data": {
      "text/plain": [
       "array([ 1,  7, 13, 19, 25,  4, 10, 16, 22, 28,  2,  8, 14, 20, 26,  5, 11,\n",
       "       17, 23, 29,  3,  9, 15, 21, 27,  6, 12, 18, 24, 30])"
      ]
     },
     "execution_count": 44,
     "metadata": {},
     "output_type": "execute_result"
    }
   ],
   "source": [
    "print(mat)\n",
    "mat.flatten()"
   ]
  },
  {
   "cell_type": "code",
   "execution_count": 45,
   "id": "04f2e076",
   "metadata": {},
   "outputs": [
    {
     "name": "stdout",
     "output_type": "stream",
     "text": [
      "<class 'list'>\n"
     ]
    },
    {
     "data": {
      "text/plain": [
       "[1, 2, 3, 4, 5, 6, 7, 8, 9, 10, 11, 12]"
      ]
     },
     "execution_count": 45,
     "metadata": {},
     "output_type": "execute_result"
    }
   ],
   "source": [
    "S.flatten()\n",
    "a=list(S.flatten())\n",
    "\n",
    "print(type(a))\n",
    "a"
   ]
  },
  {
   "cell_type": "code",
   "execution_count": 46,
   "id": "49c55a89",
   "metadata": {},
   "outputs": [
    {
     "data": {
      "text/plain": [
       "array([ 7,  8,  8,  9, 10,  8,  6,  5,  5,  9,  9,  6, 10,  8,  7,  6, 10,\n",
       "       10,  9,  7, 10,  5, 10,  8])"
      ]
     },
     "execution_count": 46,
     "metadata": {},
     "output_type": "execute_result"
    }
   ],
   "source": [
    "ar=np.random.randint(5,11,24)\n",
    "ar"
   ]
  },
  {
   "cell_type": "code",
   "execution_count": 47,
   "id": "a5d72925",
   "metadata": {},
   "outputs": [
    {
     "data": {
      "text/plain": [
       "array([0.00452787, 0.55697906, 0.18638676, 0.79915618, 0.12667585,\n",
       "       0.61499027, 0.44344845, 0.77640317, 0.71653316, 0.90020207,\n",
       "       0.08481457, 0.8482417 , 0.11467355, 0.23264375, 0.22634707,\n",
       "       0.29056631, 0.35455165, 0.28742429, 0.08906501, 0.99596979,\n",
       "       0.22595245, 0.5472452 , 0.42050061, 0.3224515 ])"
      ]
     },
     "execution_count": 47,
     "metadata": {},
     "output_type": "execute_result"
    }
   ],
   "source": [
    "ar=np.random.random(24)\n",
    "ar"
   ]
  },
  {
   "cell_type": "code",
   "execution_count": 48,
   "id": "5d908d91",
   "metadata": {},
   "outputs": [
    {
     "name": "stdout",
     "output_type": "stream",
     "text": [
      "[4, 6, 3, 1, 1, 4, 5, 5, 4, 1]\n"
     ]
    }
   ],
   "source": [
    "import random\n",
    "list1 = [1, 2, 3, 4, 5, 6]\n",
    "print(random.choices(list1,k=10))"
   ]
  },
  {
   "cell_type": "code",
   "execution_count": 49,
   "id": "a07d0973",
   "metadata": {},
   "outputs": [
    {
     "data": {
      "text/plain": [
       "array([0.00452787, 0.08481457, 0.08906501, 0.11467355, 0.12667585,\n",
       "       0.18638676, 0.22595245, 0.22634707, 0.23264375, 0.28742429,\n",
       "       0.29056631, 0.3224515 , 0.35455165, 0.42050061, 0.44344845,\n",
       "       0.5472452 , 0.55697906, 0.61499027, 0.71653316, 0.77640317,\n",
       "       0.79915618, 0.8482417 , 0.90020207, 0.99596979])"
      ]
     },
     "execution_count": 49,
     "metadata": {},
     "output_type": "execute_result"
    }
   ],
   "source": [
    "import numpy as np\n",
    "np.unique(ar)"
   ]
  },
  {
   "cell_type": "code",
   "execution_count": 50,
   "id": "105571e0",
   "metadata": {},
   "outputs": [
    {
     "name": "stdout",
     "output_type": "stream",
     "text": [
      "[0.004527873758177536, 0.5569790608958286, 0.1863867597198492, 0.7991561800798876, 0.12667584868742865, 0.6149902659344282, 0.44344844519831006, 0.776403166131415, 0.7165331583273374, 0.9002020721582946, 0.0848145748892355, 0.8482417010335207, 0.11467355155463588, 0.2326437472630163, 0.22634707123216702, 0.29056630623073865, 0.35455165465408955, 0.2874242923787612, 0.08906500539533346, 0.9959697922417722, 0.22595244640998602, 0.5472452013382967, 0.4205006093359729, 0.3224515032797266]\n",
      "[[[0.00452787 0.11467355]\n",
      "  [0.79915618 0.29056631]\n",
      "  [0.44344845 0.08906501]\n",
      "  [0.90020207 0.5472452 ]]\n",
      "\n",
      " [[0.55697906 0.23264375]\n",
      "  [0.12667585 0.35455165]\n",
      "  [0.77640317 0.99596979]\n",
      "  [0.08481457 0.42050061]]\n",
      "\n",
      " [[0.18638676 0.22634707]\n",
      "  [0.61499027 0.28742429]\n",
      "  [0.71653316 0.22595245]\n",
      "  [0.8482417  0.3224515 ]]]\n"
     ]
    },
    {
     "data": {
      "text/plain": [
       "[[[0.004527873758177536, 0.11467355155463588],\n",
       "  [0.7991561800798876, 0.29056630623073865],\n",
       "  [0.44344844519831006, 0.08906500539533346],\n",
       "  [0.9002020721582946, 0.5472452013382967]],\n",
       " [[0.5569790608958286, 0.2326437472630163],\n",
       "  [0.12667584868742865, 0.35455165465408955],\n",
       "  [0.776403166131415, 0.9959697922417722],\n",
       "  [0.0848145748892355, 0.4205006093359729]],\n",
       " [[0.1863867597198492, 0.22634707123216702],\n",
       "  [0.6149902659344282, 0.2874242923787612],\n",
       "  [0.7165331583273374, 0.22595244640998602],\n",
       "  [0.8482417010335207, 0.3224515032797266]]]"
      ]
     },
     "execution_count": 50,
     "metadata": {},
     "output_type": "execute_result"
    }
   ],
   "source": [
    "print(ar.tolist())\n",
    "T=ar.reshape(3,4,2,order='F')\n",
    "print(T)\n",
    "T.tolist()"
   ]
  },
  {
   "cell_type": "code",
   "execution_count": 51,
   "id": "24a1d9f4",
   "metadata": {},
   "outputs": [],
   "source": [
    "a1=np.random.randint(10,100,7)\n",
    "a2=np.random.randint(10,100,5)\n",
    "a3=np.random.randint(10,100,5)"
   ]
  },
  {
   "cell_type": "code",
   "execution_count": 52,
   "id": "1db8f6eb",
   "metadata": {},
   "outputs": [
    {
     "data": {
      "text/plain": [
       "array([50, 38, 80, 78, 42, 20, 94])"
      ]
     },
     "execution_count": 52,
     "metadata": {},
     "output_type": "execute_result"
    }
   ],
   "source": [
    "a1"
   ]
  },
  {
   "cell_type": "code",
   "execution_count": 53,
   "id": "cfcc7b6a",
   "metadata": {},
   "outputs": [
    {
     "name": "stdout",
     "output_type": "stream",
     "text": [
      "[98 75 74 73 48]\n"
     ]
    },
    {
     "data": {
      "text/plain": [
       "array([39, 25, 29, 15, 18])"
      ]
     },
     "execution_count": 53,
     "metadata": {},
     "output_type": "execute_result"
    }
   ],
   "source": [
    "print(a2)\n",
    "a3"
   ]
  },
  {
   "cell_type": "code",
   "execution_count": 54,
   "id": "d3873335",
   "metadata": {},
   "outputs": [
    {
     "data": {
      "text/plain": [
       "array([50, 38, 80, 78, 42, 20, 94, 98, 75, 74, 73, 48, 39, 25, 29, 15, 18])"
      ]
     },
     "execution_count": 54,
     "metadata": {},
     "output_type": "execute_result"
    }
   ],
   "source": [
    "np.concatenate((a1,a2,a3),axis=0)"
   ]
  },
  {
   "cell_type": "code",
   "execution_count": 55,
   "id": "ae09e4b9",
   "metadata": {},
   "outputs": [
    {
     "data": {
      "text/plain": [
       "array([[20, 47, 86, 65],\n",
       "       [21, 27, 17, 32],\n",
       "       [40, 86, 47, 69],\n",
       "       [20, 32, 91, 76],\n",
       "       [54, 44, 46, 81]])"
      ]
     },
     "execution_count": 55,
     "metadata": {},
     "output_type": "execute_result"
    }
   ],
   "source": [
    "mat1=np.random.randint(10,100,20).reshape(5,4)\n",
    "mat1"
   ]
  },
  {
   "cell_type": "code",
   "execution_count": 56,
   "id": "0dfae3a5",
   "metadata": {},
   "outputs": [
    {
     "data": {
      "text/plain": [
       "array([[31, 90, 31, 55, 97, 92],\n",
       "       [86, 95, 21, 13, 65, 12],\n",
       "       [21, 87, 82, 39, 25, 54],\n",
       "       [97, 49, 25, 70, 35, 87],\n",
       "       [46, 88, 53, 94, 25, 64]])"
      ]
     },
     "execution_count": 56,
     "metadata": {},
     "output_type": "execute_result"
    }
   ],
   "source": [
    "mat2=np.random.randint(10,100,30).reshape(5,6)\n",
    "mat2"
   ]
  },
  {
   "cell_type": "code",
   "execution_count": 57,
   "id": "2d749d28",
   "metadata": {},
   "outputs": [
    {
     "data": {
      "text/plain": [
       "array([[20, 47, 86, 65, 31, 90, 31, 55, 97, 92],\n",
       "       [21, 27, 17, 32, 86, 95, 21, 13, 65, 12],\n",
       "       [40, 86, 47, 69, 21, 87, 82, 39, 25, 54],\n",
       "       [20, 32, 91, 76, 97, 49, 25, 70, 35, 87],\n",
       "       [54, 44, 46, 81, 46, 88, 53, 94, 25, 64]])"
      ]
     },
     "execution_count": 57,
     "metadata": {},
     "output_type": "execute_result"
    }
   ],
   "source": [
    "np.concatenate((mat1,mat2),axis=1)"
   ]
  },
  {
   "cell_type": "code",
   "execution_count": 58,
   "id": "9b5f9e35",
   "metadata": {},
   "outputs": [
    {
     "name": "stdout",
     "output_type": "stream",
     "text": [
      "[[51 51 66 86]\n",
      " [74 81 85 51]\n",
      " [50 96 93 95]\n",
      " [64 65 69 80]\n",
      " [61 65 90 57]]\n",
      "\n",
      "\n",
      "\n",
      "[[27 22 21 43]\n",
      " [16 29 12  2]\n",
      " [30 30 40 47]\n",
      " [12  8 23 41]\n",
      " [44 46 13  5]\n",
      " [13 14 10  8]]\n",
      "\n",
      "\n",
      "\n",
      "[[51 51 66 86]\n",
      " [74 81 85 51]\n",
      " [50 96 93 95]\n",
      " [64 65 69 80]\n",
      " [61 65 90 57]\n",
      " [27 22 21 43]\n",
      " [16 29 12  2]\n",
      " [30 30 40 47]\n",
      " [12  8 23 41]\n",
      " [44 46 13  5]\n",
      " [13 14 10  8]]\n"
     ]
    }
   ],
   "source": [
    "q1=np.random.randint(50,100,20).reshape(5,4)\n",
    "print(q1)\n",
    "print(\"\\n\\n\")\n",
    "q2=np.random.randint(0,50,24).reshape(6,4)\n",
    "print(q2)\n",
    "print(\"\\n\\n\")\n",
    "\n",
    "Q=np.concatenate((q1,q2),axis=0)\n",
    "print(Q)"
   ]
  },
  {
   "cell_type": "code",
   "execution_count": 59,
   "id": "29c1635f",
   "metadata": {},
   "outputs": [
    {
     "data": {
      "text/plain": [
       "[[51, 51, 66, 86],\n",
       " [74, 81, 85, 51],\n",
       " [50, 96, 93, 95],\n",
       " [64, 65, 69, 80],\n",
       " [61, 65, 90, 57],\n",
       " [27, 22, 21, 43],\n",
       " [16, 29, 12, 2],\n",
       " [30, 30, 40, 47],\n",
       " [12, 8, 23, 41],\n",
       " [44, 46, 13, 5],\n",
       " [13, 14, 10, 8]]"
      ]
     },
     "execution_count": 59,
     "metadata": {},
     "output_type": "execute_result"
    }
   ],
   "source": [
    "Q.tolist()"
   ]
  },
  {
   "cell_type": "code",
   "execution_count": 60,
   "id": "95b6f9c3",
   "metadata": {},
   "outputs": [],
   "source": [
    "ar1=np.random.randint(10,100,30)"
   ]
  },
  {
   "cell_type": "code",
   "execution_count": 61,
   "id": "918609d7",
   "metadata": {},
   "outputs": [
    {
     "data": {
      "text/plain": [
       "array([65, 92, 93, 43, 80, 50, 69, 50, 16, 79, 98, 66, 91, 76, 85, 18, 85,\n",
       "       28, 99, 95, 85, 87, 15, 60, 93, 44, 50, 30, 24, 85])"
      ]
     },
     "execution_count": 61,
     "metadata": {},
     "output_type": "execute_result"
    }
   ],
   "source": [
    "ar1"
   ]
  },
  {
   "cell_type": "code",
   "execution_count": 62,
   "id": "3e06c9e1",
   "metadata": {},
   "outputs": [
    {
     "data": {
      "text/plain": [
       "43"
      ]
     },
     "execution_count": 62,
     "metadata": {},
     "output_type": "execute_result"
    }
   ],
   "source": [
    "ar1[3]"
   ]
  },
  {
   "cell_type": "code",
   "execution_count": 63,
   "id": "981df6b4",
   "metadata": {},
   "outputs": [
    {
     "data": {
      "text/plain": [
       "93"
      ]
     },
     "execution_count": 63,
     "metadata": {},
     "output_type": "execute_result"
    }
   ],
   "source": [
    "ar1[2]"
   ]
  },
  {
   "cell_type": "code",
   "execution_count": 64,
   "id": "88bf1734",
   "metadata": {},
   "outputs": [
    {
     "data": {
      "text/plain": [
       "24"
      ]
     },
     "execution_count": 64,
     "metadata": {},
     "output_type": "execute_result"
    }
   ],
   "source": [
    "ar1[-2]"
   ]
  },
  {
   "cell_type": "code",
   "execution_count": 65,
   "id": "297d89ca",
   "metadata": {},
   "outputs": [
    {
     "data": {
      "text/plain": [
       "65"
      ]
     },
     "execution_count": 65,
     "metadata": {},
     "output_type": "execute_result"
    }
   ],
   "source": [
    "ar1[-30]"
   ]
  },
  {
   "cell_type": "code",
   "execution_count": 66,
   "id": "d13c4c78",
   "metadata": {},
   "outputs": [
    {
     "data": {
      "text/plain": [
       "array([93, 80, 69, 16])"
      ]
     },
     "execution_count": 66,
     "metadata": {},
     "output_type": "execute_result"
    }
   ],
   "source": [
    "ar1[2:9:2]"
   ]
  },
  {
   "cell_type": "code",
   "execution_count": 67,
   "id": "950d2c59",
   "metadata": {},
   "outputs": [
    {
     "data": {
      "text/plain": [
       "array([[31, 90, 31, 55, 97, 92],\n",
       "       [86, 95, 21, 13, 65, 12],\n",
       "       [21, 87, 82, 39, 25, 54],\n",
       "       [97, 49, 25, 70, 35, 87],\n",
       "       [46, 88, 53, 94, 25, 64]])"
      ]
     },
     "execution_count": 67,
     "metadata": {},
     "output_type": "execute_result"
    }
   ],
   "source": [
    "mat2"
   ]
  }
 ],
 "metadata": {
  "kernelspec": {
   "display_name": "Python 3 (ipykernel)",
   "language": "python",
   "name": "python3"
  },
  "language_info": {
   "codemirror_mode": {
    "name": "ipython",
    "version": 3
   },
   "file_extension": ".py",
   "mimetype": "text/x-python",
   "name": "python",
   "nbconvert_exporter": "python",
   "pygments_lexer": "ipython3",
   "version": "3.12.4"
  }
 },
 "nbformat": 4,
 "nbformat_minor": 5
}
