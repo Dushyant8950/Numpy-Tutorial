{
 "cells": [
  {
   "cell_type": "markdown",
   "id": "e46e22f8",
   "metadata": {},
   "source": [
    "# create array :-"
   ]
  },
  {
   "cell_type": "code",
   "execution_count": 3,
   "id": "4c8bff3c",
   "metadata": {},
   "outputs": [
    {
     "name": "stdout",
     "output_type": "stream",
     "text": [
      "[1 2 3 4 5]\n",
      "<class 'numpy.ndarray'>\n"
     ]
    }
   ],
   "source": [
    "import numpy as np \n",
    "array=np.array([1,2,3,4,5])\n",
    "print(array)\n",
    "print(type(array))"
   ]
  },
  {
   "cell_type": "markdown",
   "id": "7899c3e9",
   "metadata": {},
   "source": [
    "# dimensional array :-"
   ]
  },
  {
   "cell_type": "code",
   "execution_count": 5,
   "id": "f2f1730a",
   "metadata": {},
   "outputs": [
    {
     "name": "stdout",
     "output_type": "stream",
     "text": [
      "24\n"
     ]
    }
   ],
   "source": [
    "# 0-D array\n",
    "import numpy as np\n",
    "array=np.array(24)\n",
    "print(array)"
   ]
  },
  {
   "cell_type": "code",
   "execution_count": 7,
   "id": "35c3e0c0",
   "metadata": {},
   "outputs": [
    {
     "name": "stdout",
     "output_type": "stream",
     "text": [
      "[23 45 67 89]\n"
     ]
    }
   ],
   "source": [
    "# 1-D arary\n",
    "import numpy as np\n",
    "array=np.array([23,45,67,89])\n",
    "print(array)"
   ]
  },
  {
   "cell_type": "code",
   "execution_count": 9,
   "id": "feb321a2",
   "metadata": {},
   "outputs": [
    {
     "name": "stdout",
     "output_type": "stream",
     "text": [
      "[[1 3 5]\n",
      " [2 4 6]]\n"
     ]
    }
   ],
   "source": [
    "# 2-D array\n",
    "import numpy as np\n",
    "array=np.array([[1,3,5],[2,4,6]])\n",
    "print(array)"
   ]
  },
  {
   "cell_type": "code",
   "execution_count": 12,
   "id": "81f89665",
   "metadata": {},
   "outputs": [
    {
     "name": "stdout",
     "output_type": "stream",
     "text": [
      "[[[1 2 3]\n",
      "  [4 5 6]\n",
      "  [7 8 9]]]\n"
     ]
    }
   ],
   "source": [
    "# 3-D array\n",
    "import numpy as np\n",
    "array=np.array([[[1,2,3],[4,5,6],[7,8,9]]])\n",
    "print(array)"
   ]
  },
  {
   "cell_type": "markdown",
   "id": "52bff9eb",
   "metadata": {},
   "source": [
    "# check no. of dimensions\n",
    "# ndim (function) "
   ]
  },
  {
   "cell_type": "code",
   "execution_count": 14,
   "id": "42dd29fd",
   "metadata": {},
   "outputs": [
    {
     "name": "stdout",
     "output_type": "stream",
     "text": [
      "0\n",
      "1\n",
      "2\n",
      "3\n"
     ]
    }
   ],
   "source": [
    "import numpy as np \n",
    "array1=np.array(34)\n",
    "array2=np.array([1,2,3])\n",
    "array3=np.array([[2,4,6],[1,3,5]])\n",
    "array4=np.array([[[23,34,45],[56,78,98]],[[12,45,23],[56,67,78]]])\n",
    "print(array1.ndim)\n",
    "print(array2.ndim)\n",
    "print(array3.ndim)\n",
    "print(array4.ndim)"
   ]
  },
  {
   "cell_type": "markdown",
   "id": "3efbd2bd",
   "metadata": {},
   "source": [
    "# higher dimensional arrays \n",
    "# ndmin ()"
   ]
  },
  {
   "cell_type": "code",
   "execution_count": 20,
   "id": "176cf30a",
   "metadata": {},
   "outputs": [
    {
     "name": "stdout",
     "output_type": "stream",
     "text": [
      "[[[[[1 2 3 4]]]]]\n",
      "number of dimension 5\n"
     ]
    }
   ],
   "source": [
    "import numpy as np\n",
    "array=np.array([1,2,3,4],ndmin=5)\n",
    "print(array)\n",
    "print('number of dimension',array.ndim)"
   ]
  },
  {
   "cell_type": "markdown",
   "id": "56d0dd4f",
   "metadata": {},
   "source": [
    "# Indexing of array\n",
    "# access array element :-"
   ]
  },
  {
   "cell_type": "code",
   "execution_count": 27,
   "id": "e3ef2c01",
   "metadata": {},
   "outputs": [
    {
     "name": "stdout",
     "output_type": "stream",
     "text": [
      "67\n",
      "[47]\n",
      "[70]\n"
     ]
    }
   ],
   "source": [
    "import numpy as np\n",
    "array=np.array([23,45,67,89])\n",
    "print(array[2])\n",
    "print(array[1]+[2])\n",
    "print(array[2]+[3])"
   ]
  },
  {
   "cell_type": "markdown",
   "id": "1bdf8589",
   "metadata": {},
   "source": [
    "# access 2-D array :-\n"
   ]
  },
  {
   "cell_type": "code",
   "execution_count": 32,
   "id": "9fb98b39",
   "metadata": {},
   "outputs": [
    {
     "name": "stdout",
     "output_type": "stream",
     "text": [
      "67\n"
     ]
    }
   ],
   "source": [
    "import numpy as np\n",
    "array=np.array([[10,20,30,40,50,60,70,80,90],[12,23,34,45,56,67,78,32,66]])\n",
    "print(array[1,5])"
   ]
  },
  {
   "cell_type": "markdown",
   "id": "8a3f34ef",
   "metadata": {},
   "source": [
    "# access 3-D array :-"
   ]
  },
  {
   "cell_type": "code",
   "execution_count": 35,
   "id": "7b14abdc",
   "metadata": {},
   "outputs": [
    {
     "name": "stdout",
     "output_type": "stream",
     "text": [
      "9\n"
     ]
    }
   ],
   "source": [
    "import numpy as np\n",
    "array=np.array([[[1,2,3,4,5,6,7,8,9,10],[2,4,6,8,10,12,14,16,18,20],[1,3,5,7,9,11,13,15,17,19]]])\n",
    "print(array[0,2,4])"
   ]
  },
  {
   "cell_type": "markdown",
   "id": "bce8eef1",
   "metadata": {},
   "source": [
    "# array slicing :-"
   ]
  },
  {
   "cell_type": "code",
   "execution_count": 38,
   "id": "afe6a735",
   "metadata": {},
   "outputs": [
    {
     "name": "stdout",
     "output_type": "stream",
     "text": [
      "[45 67 89 12 34]\n",
      "[23 45 67 89]\n",
      "[12 34 45 78 56 65 87 90 10]\n"
     ]
    }
   ],
   "source": [
    "import numpy as np\n",
    "array=np.array([23,45,67,89,12,34,45,78,56,65,87,90,10])\n",
    "print(array[1:6])\n",
    "print(array[:4])\n",
    "print(array[4:])"
   ]
  },
  {
   "cell_type": "markdown",
   "id": "fded9ebd",
   "metadata": {},
   "source": [
    "# Negative slicing :-"
   ]
  },
  {
   "cell_type": "code",
   "execution_count": 39,
   "id": "f6de2810",
   "metadata": {},
   "outputs": [
    {
     "name": "stdout",
     "output_type": "stream",
     "text": [
      "[65 87 90]\n"
     ]
    }
   ],
   "source": [
    "import numpy as np\n",
    "array=np.array([23,45,67,89,12,34,45,78,56,65,87,90,10])\n",
    "print(array[-4:-1])"
   ]
  },
  {
   "cell_type": "markdown",
   "id": "542e0c61",
   "metadata": {},
   "source": [
    "# Step:-"
   ]
  },
  {
   "cell_type": "code",
   "execution_count": 45,
   "id": "f39c9b7b",
   "metadata": {},
   "outputs": [
    {
     "name": "stdout",
     "output_type": "stream",
     "text": [
      "[45 89 34 78 65 90]\n",
      "[23 67 12 45 56 87 10]\n"
     ]
    }
   ],
   "source": [
    "import numpy as np\n",
    "array=np.array([23,45,67,89,12,34,45,78,56,65,87,90,10])\n",
    "print(array[1:58:2]) # starting : ending : step\n",
    "print(array[::2]) # starting : step"
   ]
  },
  {
   "cell_type": "markdown",
   "id": "66af7e85",
   "metadata": {},
   "source": [
    "# 2-D array slicing :-"
   ]
  },
  {
   "cell_type": "code",
   "execution_count": 62,
   "id": "6eac14f3",
   "metadata": {},
   "outputs": [
    {
     "name": "stdout",
     "output_type": "stream",
     "text": [
      "[23 34 45 56 67 78 32]\n",
      "[10 20 30 40 50]\n",
      "[32 66]\n",
      "[40 45]\n",
      "[[20 30 40]\n",
      " [23 34 45]]\n"
     ]
    }
   ],
   "source": [
    "import numpy as np\n",
    "array=np.array([[10,20,30,40,50,60,70,80,90],[12,23,34,45,56,67,78,32,66]])\n",
    "print(array[1,1:8])\n",
    "print(array[0,:5])\n",
    "print(array[1,7:])\n",
    "print(array[0:3,3])\n",
    "print(array[0:2,1:4])"
   ]
  },
  {
   "cell_type": "markdown",
   "id": "6be8b646",
   "metadata": {},
   "source": [
    "# check data type \n",
    "# dtype()"
   ]
  },
  {
   "cell_type": "code",
   "execution_count": 74,
   "id": "77071d76",
   "metadata": {},
   "outputs": [
    {
     "name": "stdout",
     "output_type": "stream",
     "text": [
      "array data type = int32\n",
      "array 1 data type = <U6\n",
      "array2 = [b'1' b'2' b'3' b'4']  data type = |S1\n",
      "array3 = [1 2 3 4 5]  data type = int32\n"
     ]
    }
   ],
   "source": [
    "import numpy as np\n",
    "array=np.array([23,45,67,89])\n",
    "print('array data type =',array.dtype)\n",
    "\n",
    "array1=np.array(['apple','banana','cherry'])\n",
    "print('array 1 data type =',array1.dtype)\n",
    "\n",
    "array2=np.array([1,2,3,4],dtype='S')\n",
    "print('array2 =',array2,' data type =',array2.dtype)\n",
    "\n",
    "array3=np.array([1,2,3,4,5],dtype='i4')\n",
    "print('array3 =',array3,' data type =',array3.dtype)"
   ]
  },
  {
   "cell_type": "markdown",
   "id": "471209fb",
   "metadata": {},
   "source": [
    "# astype ()"
   ]
  },
  {
   "cell_type": "code",
   "execution_count": 79,
   "id": "47f1f2ef",
   "metadata": {},
   "outputs": [
    {
     "name": "stdout",
     "output_type": "stream",
     "text": [
      "newarr = [1 2 3 4] data type = int32\n",
      "newarr1 = [1 2 3 4] data type = int32\n",
      "newarr2 = [ True False  True  True] data type = bool\n"
     ]
    }
   ],
   "source": [
    "import numpy as np\n",
    "array=np.array([1.1,2.1,3.1,4.1])\n",
    "newarr=array.astype('i')\n",
    "print('newarr =',newarr, 'data type =',newarr.dtype)\n",
    "\n",
    "array1=np.array([1.1,2.1,3.1,4.1])\n",
    "newarr1=array1.astype(int)\n",
    "print('newarr1 =',newarr1, 'data type =',newarr1.dtype)\n",
    "\n",
    "array2=np.array([1,0,3,4])\n",
    "newarr2=array2.astype(bool)\n",
    "print('newarr2 =',newarr2, 'data type =',newarr2.dtype)"
   ]
  },
  {
   "cell_type": "markdown",
   "id": "38ff3232",
   "metadata": {},
   "source": [
    "# copy vs view :-"
   ]
  },
  {
   "cell_type": "code",
   "execution_count": 81,
   "id": "ad3a9356",
   "metadata": {},
   "outputs": [
    {
     "name": "stdout",
     "output_type": "stream",
     "text": [
      "[ 1  2 42  4]\n",
      "[1 2 3 4]\n"
     ]
    }
   ],
   "source": [
    "import numpy as np\n",
    "array=np.array([1,2,3,4])\n",
    "x=array.copy()\n",
    "array[2]=42\n",
    "print(array)\n",
    "print(x)"
   ]
  },
  {
   "cell_type": "code",
   "execution_count": 83,
   "id": "0bb06ffc",
   "metadata": {},
   "outputs": [
    {
     "name": "stdout",
     "output_type": "stream",
     "text": [
      "[ 1  2 34  4]\n",
      "[ 1  2 34  4]\n"
     ]
    }
   ],
   "source": [
    "import numpy as np\n",
    "array=np.array([1,2,3,4])\n",
    "x=array.view()\n",
    "array[2]=34\n",
    "print(array)\n",
    "print(x)"
   ]
  },
  {
   "cell_type": "markdown",
   "id": "9d5a20e9",
   "metadata": {},
   "source": [
    "# array shape :-"
   ]
  },
  {
   "cell_type": "code",
   "execution_count": 85,
   "id": "3b2ab9ff",
   "metadata": {},
   "outputs": [
    {
     "name": "stdout",
     "output_type": "stream",
     "text": [
      "(2, 5)\n"
     ]
    }
   ],
   "source": [
    "import numpy as np\n",
    "array=np.array([[1,2,3,4,5],[6,7,8,9,10]])\n",
    "print(array.shape)"
   ]
  },
  {
   "cell_type": "code",
   "execution_count": 88,
   "id": "a2170e93",
   "metadata": {},
   "outputs": [
    {
     "name": "stdout",
     "output_type": "stream",
     "text": [
      "[[[1 2 3 4 5]]] shape of array = (1, 1, 5)\n"
     ]
    }
   ],
   "source": [
    "import numpy as np\n",
    "array=np.array([1,2,3,4,5],ndmin=3)\n",
    "print(array,'shape of array =',array.shape)"
   ]
  },
  {
   "cell_type": "markdown",
   "id": "3d57030b",
   "metadata": {},
   "source": [
    "# reshape :-\n"
   ]
  },
  {
   "cell_type": "markdown",
   "id": "9d42a917",
   "metadata": {},
   "source": [
    "# 1-D to 2-D :-"
   ]
  },
  {
   "cell_type": "code",
   "execution_count": 102,
   "id": "d30c292a",
   "metadata": {},
   "outputs": [
    {
     "name": "stdout",
     "output_type": "stream",
     "text": [
      "[[23 45 67 89 12 34]\n",
      " [45 78 56 65 87 90]]\n"
     ]
    }
   ],
   "source": [
    "import numpy as np\n",
    "array=np.array([23,45,67,89,12,34,45,78,56,65,87,90])\n",
    "newarr=array.reshape(2,6)\n",
    "print(newarr)"
   ]
  },
  {
   "cell_type": "markdown",
   "id": "0fa3961f",
   "metadata": {},
   "source": [
    "# 1-D to 3-D :-"
   ]
  },
  {
   "cell_type": "code",
   "execution_count": 106,
   "id": "5a7d1227",
   "metadata": {},
   "outputs": [
    {
     "name": "stdout",
     "output_type": "stream",
     "text": [
      "[[[23 45]\n",
      "  [67 89]]\n",
      "\n",
      " [[12 34]\n",
      "  [45 78]]\n",
      "\n",
      " [[56 65]\n",
      "  [87 90]]]\n"
     ]
    }
   ],
   "source": [
    "import numpy as np\n",
    "array=np.array([23,45,67,89,12,34,45,78,56,65,87,90])\n",
    "newarr=array.reshape(3,2,2)\n",
    "print(newarr)"
   ]
  },
  {
   "cell_type": "markdown",
   "id": "27851fe2",
   "metadata": {},
   "source": [
    "# any dimensional array to 1-D \n",
    "# reshape(-1)"
   ]
  },
  {
   "cell_type": "code",
   "execution_count": 108,
   "id": "d9a7c742",
   "metadata": {},
   "outputs": [
    {
     "name": "stdout",
     "output_type": "stream",
     "text": [
      "[ 1  2  3  4  5  6  7  8  9 10  2  4  6  8 10 12 14 16 18 20  1  3  5  7\n",
      "  9 11 13 15 17 19]\n"
     ]
    }
   ],
   "source": [
    "import numpy as np\n",
    "array=np.array([[[1,2,3,4,5,6,7,8,9,10],[2,4,6,8,10,12,14,16,18,20],[1,3,5,7,9,11,13,15,17,19]]])\n",
    "newarr=array.reshape(-1)\n",
    "print(newarr)"
   ]
  }
 ],
 "metadata": {
  "kernelspec": {
   "display_name": "Python 3 (ipykernel)",
   "language": "python",
   "name": "python3"
  },
  "language_info": {
   "codemirror_mode": {
    "name": "ipython",
    "version": 3
   },
   "file_extension": ".py",
   "mimetype": "text/x-python",
   "name": "python",
   "nbconvert_exporter": "python",
   "pygments_lexer": "ipython3",
   "version": "3.11.5"
  }
 },
 "nbformat": 4,
 "nbformat_minor": 5
}
